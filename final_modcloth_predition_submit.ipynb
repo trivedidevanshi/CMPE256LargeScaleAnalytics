{
  "nbformat": 4,
  "nbformat_minor": 0,
  "metadata": {
    "colab": {
      "name": "final_modcloth_predition_submit.ipynb",
      "provenance": []
    },
    "kernelspec": {
      "name": "python3",
      "display_name": "Python 3"
    }
  },
  "cells": [
    {
      "cell_type": "markdown",
      "metadata": {
        "id": "jIfRjYy4hpEp",
        "colab_type": "text"
      },
      "source": [
        "**Prediction for Renttherunway and ModCloth Dataset**"
      ]
    },
    {
      "cell_type": "code",
      "metadata": {
        "id": "PdPOpQwHhKOt",
        "colab_type": "code",
        "colab": {
          "base_uri": "https://localhost:8080/",
          "height": 62
        },
        "outputId": "c4199bd6-b46b-4972-f430-f77345a5bfdb"
      },
      "source": [
        "import tensorflow as tf\n",
        "import json\n",
        "import csv\n",
        "import pandas as pd\n",
        "\n",
        "tf.enable_eager_execution()"
      ],
      "execution_count": 4,
      "outputs": [
        {
          "output_type": "display_data",
          "data": {
            "text/html": [
              "<p style=\"color: red;\">\n",
              "The default version of TensorFlow in Colab will soon switch to TensorFlow 2.x.<br>\n",
              "We recommend you <a href=\"https://www.tensorflow.org/guide/migrate\" target=\"_blank\">upgrade</a> now \n",
              "or ensure your notebook will continue to use TensorFlow 1.x via the <code>%tensorflow_version 1.x</code> magic:\n",
              "<a href=\"https://colab.research.google.com/notebooks/tensorflow_version.ipynb\" target=\"_blank\">more info</a>.</p>\n"
            ],
            "text/plain": [
              "<IPython.core.display.HTML object>"
            ]
          },
          "metadata": {
            "tags": []
          }
        }
      ]
    },
    {
      "cell_type": "code",
      "metadata": {
        "id": "OcImaSQoiO_E",
        "colab_type": "code",
        "colab": {
          "base_uri": "https://localhost:8080/",
          "height": 33
        },
        "outputId": "351d7f65-fb3b-4442-e609-a935af82bb14"
      },
      "source": [
        "from google.colab import drive\n",
        "drive.mount('/content/drive')"
      ],
      "execution_count": 6,
      "outputs": [
        {
          "output_type": "stream",
          "text": [
            "Drive already mounted at /content/drive; to attempt to forcibly remount, call drive.mount(\"/content/drive\", force_remount=True).\n"
          ],
          "name": "stdout"
        }
      ]
    },
    {
      "cell_type": "code",
      "metadata": {
        "id": "nM1Tyf10iRtk",
        "colab_type": "code",
        "colab": {}
      },
      "source": [
        "file_path = '/content/drive/My Drive/'"
      ],
      "execution_count": 0,
      "outputs": []
    },
    {
      "cell_type": "markdown",
      "metadata": {
        "id": "zmPqlPqIMQYd",
        "colab_type": "text"
      },
      "source": [
        "**Reading Modcloth Dataset.**"
      ]
    },
    {
      "cell_type": "code",
      "metadata": {
        "id": "FXlP-yCPMVLV",
        "colab_type": "code",
        "colab": {
          "base_uri": "https://localhost:8080/",
          "height": 995
        },
        "outputId": "acf3f82c-b50e-42bb-8ee7-00d9eb00821e"
      },
      "source": [
        "# Reading the data from json file\n",
        "mod_cloth_data = pd.read_json(file_path + 'modcloth_final_data.json', lines=True)\n",
        "mod_cloth_data.head(20)"
      ],
      "execution_count": 188,
      "outputs": [
        {
          "output_type": "execute_result",
          "data": {
            "text/html": [
              "<div>\n",
              "<style scoped>\n",
              "    .dataframe tbody tr th:only-of-type {\n",
              "        vertical-align: middle;\n",
              "    }\n",
              "\n",
              "    .dataframe tbody tr th {\n",
              "        vertical-align: top;\n",
              "    }\n",
              "\n",
              "    .dataframe thead th {\n",
              "        text-align: right;\n",
              "    }\n",
              "</style>\n",
              "<table border=\"1\" class=\"dataframe\">\n",
              "  <thead>\n",
              "    <tr style=\"text-align: right;\">\n",
              "      <th></th>\n",
              "      <th>item_id</th>\n",
              "      <th>waist</th>\n",
              "      <th>size</th>\n",
              "      <th>quality</th>\n",
              "      <th>cup size</th>\n",
              "      <th>hips</th>\n",
              "      <th>bra size</th>\n",
              "      <th>category</th>\n",
              "      <th>bust</th>\n",
              "      <th>height</th>\n",
              "      <th>user_name</th>\n",
              "      <th>length</th>\n",
              "      <th>fit</th>\n",
              "      <th>user_id</th>\n",
              "      <th>shoe size</th>\n",
              "      <th>shoe width</th>\n",
              "      <th>review_summary</th>\n",
              "      <th>review_text</th>\n",
              "    </tr>\n",
              "  </thead>\n",
              "  <tbody>\n",
              "    <tr>\n",
              "      <th>0</th>\n",
              "      <td>123373</td>\n",
              "      <td>29.0</td>\n",
              "      <td>7</td>\n",
              "      <td>5.0</td>\n",
              "      <td>d</td>\n",
              "      <td>38.0</td>\n",
              "      <td>34.0</td>\n",
              "      <td>new</td>\n",
              "      <td>36</td>\n",
              "      <td>5ft 6in</td>\n",
              "      <td>Emily</td>\n",
              "      <td>just right</td>\n",
              "      <td>small</td>\n",
              "      <td>991571</td>\n",
              "      <td>NaN</td>\n",
              "      <td>NaN</td>\n",
              "      <td>NaN</td>\n",
              "      <td>NaN</td>\n",
              "    </tr>\n",
              "    <tr>\n",
              "      <th>1</th>\n",
              "      <td>123373</td>\n",
              "      <td>31.0</td>\n",
              "      <td>13</td>\n",
              "      <td>3.0</td>\n",
              "      <td>b</td>\n",
              "      <td>30.0</td>\n",
              "      <td>36.0</td>\n",
              "      <td>new</td>\n",
              "      <td>NaN</td>\n",
              "      <td>5ft 2in</td>\n",
              "      <td>sydneybraden2001</td>\n",
              "      <td>just right</td>\n",
              "      <td>small</td>\n",
              "      <td>587883</td>\n",
              "      <td>NaN</td>\n",
              "      <td>NaN</td>\n",
              "      <td>NaN</td>\n",
              "      <td>NaN</td>\n",
              "    </tr>\n",
              "    <tr>\n",
              "      <th>2</th>\n",
              "      <td>123373</td>\n",
              "      <td>30.0</td>\n",
              "      <td>7</td>\n",
              "      <td>2.0</td>\n",
              "      <td>b</td>\n",
              "      <td>NaN</td>\n",
              "      <td>32.0</td>\n",
              "      <td>new</td>\n",
              "      <td>NaN</td>\n",
              "      <td>5ft 7in</td>\n",
              "      <td>Ugggh</td>\n",
              "      <td>slightly long</td>\n",
              "      <td>small</td>\n",
              "      <td>395665</td>\n",
              "      <td>9.0</td>\n",
              "      <td>NaN</td>\n",
              "      <td>NaN</td>\n",
              "      <td>NaN</td>\n",
              "    </tr>\n",
              "    <tr>\n",
              "      <th>3</th>\n",
              "      <td>123373</td>\n",
              "      <td>NaN</td>\n",
              "      <td>21</td>\n",
              "      <td>5.0</td>\n",
              "      <td>dd/e</td>\n",
              "      <td>NaN</td>\n",
              "      <td>NaN</td>\n",
              "      <td>new</td>\n",
              "      <td>NaN</td>\n",
              "      <td>NaN</td>\n",
              "      <td>alexmeyer626</td>\n",
              "      <td>just right</td>\n",
              "      <td>fit</td>\n",
              "      <td>875643</td>\n",
              "      <td>NaN</td>\n",
              "      <td>NaN</td>\n",
              "      <td>NaN</td>\n",
              "      <td>NaN</td>\n",
              "    </tr>\n",
              "    <tr>\n",
              "      <th>4</th>\n",
              "      <td>123373</td>\n",
              "      <td>NaN</td>\n",
              "      <td>18</td>\n",
              "      <td>5.0</td>\n",
              "      <td>b</td>\n",
              "      <td>NaN</td>\n",
              "      <td>36.0</td>\n",
              "      <td>new</td>\n",
              "      <td>NaN</td>\n",
              "      <td>5ft 2in</td>\n",
              "      <td>dberrones1</td>\n",
              "      <td>slightly long</td>\n",
              "      <td>small</td>\n",
              "      <td>944840</td>\n",
              "      <td>NaN</td>\n",
              "      <td>NaN</td>\n",
              "      <td>NaN</td>\n",
              "      <td>NaN</td>\n",
              "    </tr>\n",
              "    <tr>\n",
              "      <th>5</th>\n",
              "      <td>123373</td>\n",
              "      <td>27.0</td>\n",
              "      <td>11</td>\n",
              "      <td>5.0</td>\n",
              "      <td>c</td>\n",
              "      <td>41.0</td>\n",
              "      <td>36.0</td>\n",
              "      <td>new</td>\n",
              "      <td>NaN</td>\n",
              "      <td>5ft 4in</td>\n",
              "      <td>Doreenajane</td>\n",
              "      <td>just right</td>\n",
              "      <td>small</td>\n",
              "      <td>162012</td>\n",
              "      <td>NaN</td>\n",
              "      <td>NaN</td>\n",
              "      <td>NaN</td>\n",
              "      <td>NaN</td>\n",
              "    </tr>\n",
              "    <tr>\n",
              "      <th>6</th>\n",
              "      <td>123373</td>\n",
              "      <td>26.0</td>\n",
              "      <td>5</td>\n",
              "      <td>1.0</td>\n",
              "      <td>b</td>\n",
              "      <td>NaN</td>\n",
              "      <td>32.0</td>\n",
              "      <td>new</td>\n",
              "      <td>NaN</td>\n",
              "      <td>5ft 3in</td>\n",
              "      <td>barbiejenks</td>\n",
              "      <td>just right</td>\n",
              "      <td>large</td>\n",
              "      <td>114843</td>\n",
              "      <td>NaN</td>\n",
              "      <td>NaN</td>\n",
              "      <td>NaN</td>\n",
              "      <td>NaN</td>\n",
              "    </tr>\n",
              "    <tr>\n",
              "      <th>7</th>\n",
              "      <td>123373</td>\n",
              "      <td>NaN</td>\n",
              "      <td>11</td>\n",
              "      <td>5.0</td>\n",
              "      <td>d</td>\n",
              "      <td>42.0</td>\n",
              "      <td>38.0</td>\n",
              "      <td>new</td>\n",
              "      <td>NaN</td>\n",
              "      <td>5ft 5in</td>\n",
              "      <td>brettloie</td>\n",
              "      <td>just right</td>\n",
              "      <td>small</td>\n",
              "      <td>58869</td>\n",
              "      <td>8.5</td>\n",
              "      <td>NaN</td>\n",
              "      <td>NaN</td>\n",
              "      <td>NaN</td>\n",
              "    </tr>\n",
              "    <tr>\n",
              "      <th>8</th>\n",
              "      <td>123373</td>\n",
              "      <td>NaN</td>\n",
              "      <td>30</td>\n",
              "      <td>4.0</td>\n",
              "      <td>d</td>\n",
              "      <td>50.0</td>\n",
              "      <td>42.0</td>\n",
              "      <td>new</td>\n",
              "      <td>NaN</td>\n",
              "      <td>5ft 10in</td>\n",
              "      <td>francescaviola</td>\n",
              "      <td>just right</td>\n",
              "      <td>small</td>\n",
              "      <td>279568</td>\n",
              "      <td>11.0</td>\n",
              "      <td>wide</td>\n",
              "      <td>NaN</td>\n",
              "      <td>NaN</td>\n",
              "    </tr>\n",
              "    <tr>\n",
              "      <th>9</th>\n",
              "      <td>123373</td>\n",
              "      <td>NaN</td>\n",
              "      <td>13</td>\n",
              "      <td>5.0</td>\n",
              "      <td>dd/e</td>\n",
              "      <td>41.0</td>\n",
              "      <td>36.0</td>\n",
              "      <td>new</td>\n",
              "      <td>39</td>\n",
              "      <td>5ft 6in</td>\n",
              "      <td>laurenpolzin</td>\n",
              "      <td>just right</td>\n",
              "      <td>fit</td>\n",
              "      <td>950172</td>\n",
              "      <td>9.0</td>\n",
              "      <td>NaN</td>\n",
              "      <td>NaN</td>\n",
              "      <td>NaN</td>\n",
              "    </tr>\n",
              "    <tr>\n",
              "      <th>10</th>\n",
              "      <td>123373</td>\n",
              "      <td>NaN</td>\n",
              "      <td>24</td>\n",
              "      <td>4.0</td>\n",
              "      <td>d</td>\n",
              "      <td>49.0</td>\n",
              "      <td>40.0</td>\n",
              "      <td>new</td>\n",
              "      <td>NaN</td>\n",
              "      <td>5ft 6in</td>\n",
              "      <td>micorson</td>\n",
              "      <td>just right</td>\n",
              "      <td>small</td>\n",
              "      <td>205796</td>\n",
              "      <td>NaN</td>\n",
              "      <td>NaN</td>\n",
              "      <td>NaN</td>\n",
              "      <td>NaN</td>\n",
              "    </tr>\n",
              "    <tr>\n",
              "      <th>11</th>\n",
              "      <td>123373</td>\n",
              "      <td>NaN</td>\n",
              "      <td>33</td>\n",
              "      <td>5.0</td>\n",
              "      <td>ddd/f</td>\n",
              "      <td>60.0</td>\n",
              "      <td>44.0</td>\n",
              "      <td>new</td>\n",
              "      <td>NaN</td>\n",
              "      <td>5ft 4in</td>\n",
              "      <td>tera.oh</td>\n",
              "      <td>just right</td>\n",
              "      <td>small</td>\n",
              "      <td>422613</td>\n",
              "      <td>NaN</td>\n",
              "      <td>NaN</td>\n",
              "      <td>NaN</td>\n",
              "      <td>NaN</td>\n",
              "    </tr>\n",
              "    <tr>\n",
              "      <th>12</th>\n",
              "      <td>123373</td>\n",
              "      <td>NaN</td>\n",
              "      <td>5</td>\n",
              "      <td>5.0</td>\n",
              "      <td>c</td>\n",
              "      <td>NaN</td>\n",
              "      <td>34.0</td>\n",
              "      <td>new</td>\n",
              "      <td>NaN</td>\n",
              "      <td>5ft 5in</td>\n",
              "      <td>kmj11492</td>\n",
              "      <td>just right</td>\n",
              "      <td>fit</td>\n",
              "      <td>42840</td>\n",
              "      <td>NaN</td>\n",
              "      <td>NaN</td>\n",
              "      <td>NaN</td>\n",
              "      <td>NaN</td>\n",
              "    </tr>\n",
              "    <tr>\n",
              "      <th>13</th>\n",
              "      <td>123373</td>\n",
              "      <td>NaN</td>\n",
              "      <td>7</td>\n",
              "      <td>4.0</td>\n",
              "      <td>dd/e</td>\n",
              "      <td>NaN</td>\n",
              "      <td>34.0</td>\n",
              "      <td>new</td>\n",
              "      <td>NaN</td>\n",
              "      <td>5ft 5in</td>\n",
              "      <td>katherineoliviaman</td>\n",
              "      <td>just right</td>\n",
              "      <td>fit</td>\n",
              "      <td>767255</td>\n",
              "      <td>NaN</td>\n",
              "      <td>NaN</td>\n",
              "      <td>NaN</td>\n",
              "      <td>NaN</td>\n",
              "    </tr>\n",
              "    <tr>\n",
              "      <th>14</th>\n",
              "      <td>123373</td>\n",
              "      <td>NaN</td>\n",
              "      <td>3</td>\n",
              "      <td>5.0</td>\n",
              "      <td>b</td>\n",
              "      <td>36.0</td>\n",
              "      <td>34.0</td>\n",
              "      <td>new</td>\n",
              "      <td>NaN</td>\n",
              "      <td>5ft 3in</td>\n",
              "      <td>stacy233</td>\n",
              "      <td>just right</td>\n",
              "      <td>fit</td>\n",
              "      <td>510154</td>\n",
              "      <td>NaN</td>\n",
              "      <td>NaN</td>\n",
              "      <td>NaN</td>\n",
              "      <td>NaN</td>\n",
              "    </tr>\n",
              "    <tr>\n",
              "      <th>15</th>\n",
              "      <td>123373</td>\n",
              "      <td>NaN</td>\n",
              "      <td>27</td>\n",
              "      <td>4.0</td>\n",
              "      <td>c</td>\n",
              "      <td>50.0</td>\n",
              "      <td>40.0</td>\n",
              "      <td>new</td>\n",
              "      <td>NaN</td>\n",
              "      <td>5ft 4in</td>\n",
              "      <td>tamera.cole</td>\n",
              "      <td>just right</td>\n",
              "      <td>fit</td>\n",
              "      <td>780339</td>\n",
              "      <td>NaN</td>\n",
              "      <td>NaN</td>\n",
              "      <td>NaN</td>\n",
              "      <td>NaN</td>\n",
              "    </tr>\n",
              "    <tr>\n",
              "      <th>16</th>\n",
              "      <td>123373</td>\n",
              "      <td>NaN</td>\n",
              "      <td>18</td>\n",
              "      <td>5.0</td>\n",
              "      <td>d</td>\n",
              "      <td>44.0</td>\n",
              "      <td>36.0</td>\n",
              "      <td>new</td>\n",
              "      <td>NaN</td>\n",
              "      <td>5ft 2in</td>\n",
              "      <td>choircorgis</td>\n",
              "      <td>just right</td>\n",
              "      <td>fit</td>\n",
              "      <td>936337</td>\n",
              "      <td>8.5</td>\n",
              "      <td>NaN</td>\n",
              "      <td>NaN</td>\n",
              "      <td>NaN</td>\n",
              "    </tr>\n",
              "    <tr>\n",
              "      <th>17</th>\n",
              "      <td>123373</td>\n",
              "      <td>NaN</td>\n",
              "      <td>15</td>\n",
              "      <td>4.0</td>\n",
              "      <td>dddd/g</td>\n",
              "      <td>NaN</td>\n",
              "      <td>36.0</td>\n",
              "      <td>new</td>\n",
              "      <td>NaN</td>\n",
              "      <td>NaN</td>\n",
              "      <td>Megan</td>\n",
              "      <td>just right</td>\n",
              "      <td>large</td>\n",
              "      <td>128353</td>\n",
              "      <td>NaN</td>\n",
              "      <td>NaN</td>\n",
              "      <td>NaN</td>\n",
              "      <td>NaN</td>\n",
              "    </tr>\n",
              "    <tr>\n",
              "      <th>18</th>\n",
              "      <td>123373</td>\n",
              "      <td>NaN</td>\n",
              "      <td>15</td>\n",
              "      <td>4.0</td>\n",
              "      <td>d</td>\n",
              "      <td>39.0</td>\n",
              "      <td>36.0</td>\n",
              "      <td>new</td>\n",
              "      <td>NaN</td>\n",
              "      <td>5ft 8in</td>\n",
              "      <td>Carol</td>\n",
              "      <td>just right</td>\n",
              "      <td>large</td>\n",
              "      <td>21605</td>\n",
              "      <td>8.5</td>\n",
              "      <td>NaN</td>\n",
              "      <td>NaN</td>\n",
              "      <td>NaN</td>\n",
              "    </tr>\n",
              "    <tr>\n",
              "      <th>19</th>\n",
              "      <td>123373</td>\n",
              "      <td>NaN</td>\n",
              "      <td>9</td>\n",
              "      <td>1.0</td>\n",
              "      <td>dd/e</td>\n",
              "      <td>35.0</td>\n",
              "      <td>34.0</td>\n",
              "      <td>new</td>\n",
              "      <td>NaN</td>\n",
              "      <td>5ft 5in</td>\n",
              "      <td>kate</td>\n",
              "      <td>very short</td>\n",
              "      <td>fit</td>\n",
              "      <td>328698</td>\n",
              "      <td>NaN</td>\n",
              "      <td>NaN</td>\n",
              "      <td>NaN</td>\n",
              "      <td>NaN</td>\n",
              "    </tr>\n",
              "  </tbody>\n",
              "</table>\n",
              "</div>"
            ],
            "text/plain": [
              "    item_id  waist  size  ...  shoe width review_summary  review_text\n",
              "0    123373   29.0     7  ...         NaN            NaN          NaN\n",
              "1    123373   31.0    13  ...         NaN            NaN          NaN\n",
              "2    123373   30.0     7  ...         NaN            NaN          NaN\n",
              "3    123373    NaN    21  ...         NaN            NaN          NaN\n",
              "4    123373    NaN    18  ...         NaN            NaN          NaN\n",
              "5    123373   27.0    11  ...         NaN            NaN          NaN\n",
              "6    123373   26.0     5  ...         NaN            NaN          NaN\n",
              "7    123373    NaN    11  ...         NaN            NaN          NaN\n",
              "8    123373    NaN    30  ...        wide            NaN          NaN\n",
              "9    123373    NaN    13  ...         NaN            NaN          NaN\n",
              "10   123373    NaN    24  ...         NaN            NaN          NaN\n",
              "11   123373    NaN    33  ...         NaN            NaN          NaN\n",
              "12   123373    NaN     5  ...         NaN            NaN          NaN\n",
              "13   123373    NaN     7  ...         NaN            NaN          NaN\n",
              "14   123373    NaN     3  ...         NaN            NaN          NaN\n",
              "15   123373    NaN    27  ...         NaN            NaN          NaN\n",
              "16   123373    NaN    18  ...         NaN            NaN          NaN\n",
              "17   123373    NaN    15  ...         NaN            NaN          NaN\n",
              "18   123373    NaN    15  ...         NaN            NaN          NaN\n",
              "19   123373    NaN     9  ...         NaN            NaN          NaN\n",
              "\n",
              "[20 rows x 18 columns]"
            ]
          },
          "metadata": {
            "tags": []
          },
          "execution_count": 188
        }
      ]
    },
    {
      "cell_type": "code",
      "metadata": {
        "id": "CoZNIu7NMdxv",
        "colab_type": "code",
        "colab": {}
      },
      "source": [
        "mod_cloth_data.columns = ['item_id','waist', 'size', 'quality' , 'cup_size', 'hips', 'bra_size', 'category','bust', 'height', 'user_name','length', 'fit','user_id', 'shoe_size', 'shoe_width', 'review_summary', 'review_text']"
      ],
      "execution_count": 0,
      "outputs": []
    },
    {
      "cell_type": "markdown",
      "metadata": {
        "id": "Dg3V74AFNTOq",
        "colab_type": "text"
      },
      "source": [
        "Execute the below 4 steps for using **modcloth unbaised data**."
      ]
    },
    {
      "cell_type": "code",
      "metadata": {
        "id": "4hfs8lcgNYch",
        "colab_type": "code",
        "colab": {
          "base_uri": "https://localhost:8080/",
          "height": 114
        },
        "outputId": "8b7c79a3-3a7d-4601-9766-92a388ad8e7b"
      },
      "source": [
        "#View the fit data\n",
        "mod_data = mod_cloth_data[mod_cloth_data.fit  == 'fit'] \n",
        "mod_data = mod_data.head(13000)\n",
        "mod_data.head(1)"
      ],
      "execution_count": 187,
      "outputs": [
        {
          "output_type": "execute_result",
          "data": {
            "text/html": [
              "<div>\n",
              "<style scoped>\n",
              "    .dataframe tbody tr th:only-of-type {\n",
              "        vertical-align: middle;\n",
              "    }\n",
              "\n",
              "    .dataframe tbody tr th {\n",
              "        vertical-align: top;\n",
              "    }\n",
              "\n",
              "    .dataframe thead th {\n",
              "        text-align: right;\n",
              "    }\n",
              "</style>\n",
              "<table border=\"1\" class=\"dataframe\">\n",
              "  <thead>\n",
              "    <tr style=\"text-align: right;\">\n",
              "      <th></th>\n",
              "      <th>item_id</th>\n",
              "      <th>waist</th>\n",
              "      <th>size</th>\n",
              "      <th>quality</th>\n",
              "      <th>cup_size</th>\n",
              "      <th>hips</th>\n",
              "      <th>bra_size</th>\n",
              "      <th>category</th>\n",
              "      <th>bust</th>\n",
              "      <th>height</th>\n",
              "      <th>user_name</th>\n",
              "      <th>length</th>\n",
              "      <th>fit</th>\n",
              "      <th>user_id</th>\n",
              "      <th>shoe_size</th>\n",
              "      <th>shoe_width</th>\n",
              "      <th>review_summary</th>\n",
              "      <th>review_text</th>\n",
              "    </tr>\n",
              "  </thead>\n",
              "  <tbody>\n",
              "    <tr>\n",
              "      <th>3</th>\n",
              "      <td>123373</td>\n",
              "      <td>NaN</td>\n",
              "      <td>21</td>\n",
              "      <td>5.0</td>\n",
              "      <td>dd/e</td>\n",
              "      <td>NaN</td>\n",
              "      <td>NaN</td>\n",
              "      <td>new</td>\n",
              "      <td>NaN</td>\n",
              "      <td>NaN</td>\n",
              "      <td>alexmeyer626</td>\n",
              "      <td>just right</td>\n",
              "      <td>fit</td>\n",
              "      <td>875643</td>\n",
              "      <td>NaN</td>\n",
              "      <td>NaN</td>\n",
              "      <td>NaN</td>\n",
              "      <td>NaN</td>\n",
              "    </tr>\n",
              "  </tbody>\n",
              "</table>\n",
              "</div>"
            ],
            "text/plain": [
              "   item_id  waist  size  ...  shoe_width review_summary  review_text\n",
              "3   123373    NaN    21  ...         NaN            NaN          NaN\n",
              "\n",
              "[1 rows x 18 columns]"
            ]
          },
          "metadata": {
            "tags": []
          },
          "execution_count": 187
        }
      ]
    },
    {
      "cell_type": "code",
      "metadata": {
        "id": "7Rw8m8U1Nktn",
        "colab_type": "code",
        "colab": {
          "base_uri": "https://localhost:8080/",
          "height": 114
        },
        "outputId": "ab034f6b-7f6f-47bf-c6dc-2fc3cbce14a7"
      },
      "source": [
        "mod_data_small = mod_cloth_data[mod_cloth_data.fit  == 'small'] \n",
        "mod_data_small.head(1)"
      ],
      "execution_count": 100,
      "outputs": [
        {
          "output_type": "execute_result",
          "data": {
            "text/html": [
              "<div>\n",
              "<style scoped>\n",
              "    .dataframe tbody tr th:only-of-type {\n",
              "        vertical-align: middle;\n",
              "    }\n",
              "\n",
              "    .dataframe tbody tr th {\n",
              "        vertical-align: top;\n",
              "    }\n",
              "\n",
              "    .dataframe thead th {\n",
              "        text-align: right;\n",
              "    }\n",
              "</style>\n",
              "<table border=\"1\" class=\"dataframe\">\n",
              "  <thead>\n",
              "    <tr style=\"text-align: right;\">\n",
              "      <th></th>\n",
              "      <th>item_id</th>\n",
              "      <th>waist</th>\n",
              "      <th>size</th>\n",
              "      <th>quality</th>\n",
              "      <th>cup_size</th>\n",
              "      <th>hips</th>\n",
              "      <th>bra_size</th>\n",
              "      <th>category</th>\n",
              "      <th>bust</th>\n",
              "      <th>height</th>\n",
              "      <th>user_name</th>\n",
              "      <th>length</th>\n",
              "      <th>fit</th>\n",
              "      <th>user_id</th>\n",
              "      <th>shoe_size</th>\n",
              "      <th>shoe_width</th>\n",
              "      <th>review_summary</th>\n",
              "      <th>review_text</th>\n",
              "    </tr>\n",
              "  </thead>\n",
              "  <tbody>\n",
              "    <tr>\n",
              "      <th>0</th>\n",
              "      <td>123373</td>\n",
              "      <td>29.0</td>\n",
              "      <td>7</td>\n",
              "      <td>5.0</td>\n",
              "      <td>d</td>\n",
              "      <td>38.0</td>\n",
              "      <td>34.0</td>\n",
              "      <td>new</td>\n",
              "      <td>36</td>\n",
              "      <td>5ft 6in</td>\n",
              "      <td>Emily</td>\n",
              "      <td>just right</td>\n",
              "      <td>small</td>\n",
              "      <td>991571</td>\n",
              "      <td>NaN</td>\n",
              "      <td>NaN</td>\n",
              "      <td>NaN</td>\n",
              "      <td>NaN</td>\n",
              "    </tr>\n",
              "  </tbody>\n",
              "</table>\n",
              "</div>"
            ],
            "text/plain": [
              "   item_id  waist  size  ...  shoe_width review_summary  review_text\n",
              "0   123373   29.0     7  ...         NaN            NaN          NaN\n",
              "\n",
              "[1 rows x 18 columns]"
            ]
          },
          "metadata": {
            "tags": []
          },
          "execution_count": 100
        }
      ]
    },
    {
      "cell_type": "code",
      "metadata": {
        "id": "JU5GOOz6No-l",
        "colab_type": "code",
        "colab": {
          "base_uri": "https://localhost:8080/",
          "height": 300
        },
        "outputId": "bb62f445-988b-4534-d6ec-5f1b3f2286ab"
      },
      "source": [
        "mod_data_large = mod_cloth_data[mod_cloth_data.fit  == 'large'] \n",
        "mod_data_large.head()"
      ],
      "execution_count": 101,
      "outputs": [
        {
          "output_type": "execute_result",
          "data": {
            "text/html": [
              "<div>\n",
              "<style scoped>\n",
              "    .dataframe tbody tr th:only-of-type {\n",
              "        vertical-align: middle;\n",
              "    }\n",
              "\n",
              "    .dataframe tbody tr th {\n",
              "        vertical-align: top;\n",
              "    }\n",
              "\n",
              "    .dataframe thead th {\n",
              "        text-align: right;\n",
              "    }\n",
              "</style>\n",
              "<table border=\"1\" class=\"dataframe\">\n",
              "  <thead>\n",
              "    <tr style=\"text-align: right;\">\n",
              "      <th></th>\n",
              "      <th>item_id</th>\n",
              "      <th>waist</th>\n",
              "      <th>size</th>\n",
              "      <th>quality</th>\n",
              "      <th>cup_size</th>\n",
              "      <th>hips</th>\n",
              "      <th>bra_size</th>\n",
              "      <th>category</th>\n",
              "      <th>bust</th>\n",
              "      <th>height</th>\n",
              "      <th>user_name</th>\n",
              "      <th>length</th>\n",
              "      <th>fit</th>\n",
              "      <th>user_id</th>\n",
              "      <th>shoe_size</th>\n",
              "      <th>shoe_width</th>\n",
              "      <th>review_summary</th>\n",
              "      <th>review_text</th>\n",
              "    </tr>\n",
              "  </thead>\n",
              "  <tbody>\n",
              "    <tr>\n",
              "      <th>6</th>\n",
              "      <td>123373</td>\n",
              "      <td>26.0</td>\n",
              "      <td>5</td>\n",
              "      <td>1.0</td>\n",
              "      <td>b</td>\n",
              "      <td>NaN</td>\n",
              "      <td>32.0</td>\n",
              "      <td>new</td>\n",
              "      <td>NaN</td>\n",
              "      <td>5ft 3in</td>\n",
              "      <td>barbiejenks</td>\n",
              "      <td>just right</td>\n",
              "      <td>large</td>\n",
              "      <td>114843</td>\n",
              "      <td>NaN</td>\n",
              "      <td>NaN</td>\n",
              "      <td>NaN</td>\n",
              "      <td>NaN</td>\n",
              "    </tr>\n",
              "    <tr>\n",
              "      <th>17</th>\n",
              "      <td>123373</td>\n",
              "      <td>NaN</td>\n",
              "      <td>15</td>\n",
              "      <td>4.0</td>\n",
              "      <td>dddd/g</td>\n",
              "      <td>NaN</td>\n",
              "      <td>36.0</td>\n",
              "      <td>new</td>\n",
              "      <td>NaN</td>\n",
              "      <td>NaN</td>\n",
              "      <td>Megan</td>\n",
              "      <td>just right</td>\n",
              "      <td>large</td>\n",
              "      <td>128353</td>\n",
              "      <td>NaN</td>\n",
              "      <td>NaN</td>\n",
              "      <td>NaN</td>\n",
              "      <td>NaN</td>\n",
              "    </tr>\n",
              "    <tr>\n",
              "      <th>18</th>\n",
              "      <td>123373</td>\n",
              "      <td>NaN</td>\n",
              "      <td>15</td>\n",
              "      <td>4.0</td>\n",
              "      <td>d</td>\n",
              "      <td>39.0</td>\n",
              "      <td>36.0</td>\n",
              "      <td>new</td>\n",
              "      <td>NaN</td>\n",
              "      <td>5ft 8in</td>\n",
              "      <td>Carol</td>\n",
              "      <td>just right</td>\n",
              "      <td>large</td>\n",
              "      <td>21605</td>\n",
              "      <td>8.5</td>\n",
              "      <td>NaN</td>\n",
              "      <td>NaN</td>\n",
              "      <td>NaN</td>\n",
              "    </tr>\n",
              "    <tr>\n",
              "      <th>20</th>\n",
              "      <td>123373</td>\n",
              "      <td>NaN</td>\n",
              "      <td>18</td>\n",
              "      <td>5.0</td>\n",
              "      <td>dd/e</td>\n",
              "      <td>38.0</td>\n",
              "      <td>36.0</td>\n",
              "      <td>new</td>\n",
              "      <td>NaN</td>\n",
              "      <td>5ft</td>\n",
              "      <td>aunibe7</td>\n",
              "      <td>slightly long</td>\n",
              "      <td>large</td>\n",
              "      <td>42046</td>\n",
              "      <td>NaN</td>\n",
              "      <td>NaN</td>\n",
              "      <td>NaN</td>\n",
              "      <td>NaN</td>\n",
              "    </tr>\n",
              "    <tr>\n",
              "      <th>21</th>\n",
              "      <td>123373</td>\n",
              "      <td>NaN</td>\n",
              "      <td>5</td>\n",
              "      <td>5.0</td>\n",
              "      <td>b</td>\n",
              "      <td>NaN</td>\n",
              "      <td>34.0</td>\n",
              "      <td>new</td>\n",
              "      <td>NaN</td>\n",
              "      <td>5ft 7in</td>\n",
              "      <td>dputvin</td>\n",
              "      <td>just right</td>\n",
              "      <td>large</td>\n",
              "      <td>4905</td>\n",
              "      <td>7.0</td>\n",
              "      <td>average</td>\n",
              "      <td>NaN</td>\n",
              "      <td>NaN</td>\n",
              "    </tr>\n",
              "  </tbody>\n",
              "</table>\n",
              "</div>"
            ],
            "text/plain": [
              "    item_id  waist  size  ...  shoe_width review_summary  review_text\n",
              "6    123373   26.0     5  ...         NaN            NaN          NaN\n",
              "17   123373    NaN    15  ...         NaN            NaN          NaN\n",
              "18   123373    NaN    15  ...         NaN            NaN          NaN\n",
              "20   123373    NaN    18  ...         NaN            NaN          NaN\n",
              "21   123373    NaN     5  ...     average            NaN          NaN\n",
              "\n",
              "[5 rows x 18 columns]"
            ]
          },
          "metadata": {
            "tags": []
          },
          "execution_count": 101
        }
      ]
    },
    {
      "cell_type": "code",
      "metadata": {
        "id": "KqACSnf-OFSc",
        "colab_type": "code",
        "colab": {
          "base_uri": "https://localhost:8080/",
          "height": 114
        },
        "outputId": "691b070d-7a9e-41c8-e571-4171c89ec427"
      },
      "source": [
        "#concat all the three dataset\n",
        "mod_cloth_data = pd.concat([mod_data,mod_data_small,mod_data_large])\n",
        "mod_cloth_data.head(1)"
      ],
      "execution_count": 102,
      "outputs": [
        {
          "output_type": "execute_result",
          "data": {
            "text/html": [
              "<div>\n",
              "<style scoped>\n",
              "    .dataframe tbody tr th:only-of-type {\n",
              "        vertical-align: middle;\n",
              "    }\n",
              "\n",
              "    .dataframe tbody tr th {\n",
              "        vertical-align: top;\n",
              "    }\n",
              "\n",
              "    .dataframe thead th {\n",
              "        text-align: right;\n",
              "    }\n",
              "</style>\n",
              "<table border=\"1\" class=\"dataframe\">\n",
              "  <thead>\n",
              "    <tr style=\"text-align: right;\">\n",
              "      <th></th>\n",
              "      <th>item_id</th>\n",
              "      <th>waist</th>\n",
              "      <th>size</th>\n",
              "      <th>quality</th>\n",
              "      <th>cup_size</th>\n",
              "      <th>hips</th>\n",
              "      <th>bra_size</th>\n",
              "      <th>category</th>\n",
              "      <th>bust</th>\n",
              "      <th>height</th>\n",
              "      <th>user_name</th>\n",
              "      <th>length</th>\n",
              "      <th>fit</th>\n",
              "      <th>user_id</th>\n",
              "      <th>shoe_size</th>\n",
              "      <th>shoe_width</th>\n",
              "      <th>review_summary</th>\n",
              "      <th>review_text</th>\n",
              "    </tr>\n",
              "  </thead>\n",
              "  <tbody>\n",
              "    <tr>\n",
              "      <th>3</th>\n",
              "      <td>123373</td>\n",
              "      <td>NaN</td>\n",
              "      <td>21</td>\n",
              "      <td>5.0</td>\n",
              "      <td>dd/e</td>\n",
              "      <td>NaN</td>\n",
              "      <td>NaN</td>\n",
              "      <td>new</td>\n",
              "      <td>NaN</td>\n",
              "      <td>NaN</td>\n",
              "      <td>alexmeyer626</td>\n",
              "      <td>just right</td>\n",
              "      <td>fit</td>\n",
              "      <td>875643</td>\n",
              "      <td>NaN</td>\n",
              "      <td>NaN</td>\n",
              "      <td>NaN</td>\n",
              "      <td>NaN</td>\n",
              "    </tr>\n",
              "  </tbody>\n",
              "</table>\n",
              "</div>"
            ],
            "text/plain": [
              "   item_id  waist  size  ...  shoe_width review_summary  review_text\n",
              "3   123373    NaN    21  ...         NaN            NaN          NaN\n",
              "\n",
              "[1 rows x 18 columns]"
            ]
          },
          "metadata": {
            "tags": []
          },
          "execution_count": 102
        }
      ]
    },
    {
      "cell_type": "markdown",
      "metadata": {
        "id": "SnwBRVyyOele",
        "colab_type": "text"
      },
      "source": [
        "**Preprocessing of modcloth data.**"
      ]
    },
    {
      "cell_type": "code",
      "metadata": {
        "id": "ZL9VKqPU2xio",
        "colab_type": "code",
        "colab": {}
      },
      "source": [
        "#Code to calculate TF*IDF for the text in “review_text”\n",
        "#import pandas as pd\n",
        "#from sklearn.feature_extraction.text import TfidfVectorizer\n",
        "#from sklearn.metrics.pairwise import linear_kernel \n",
        "#ds = pd.read_json(\"modcloth_data.json\",lines = True)\n",
        "#ds['review_text'].head()\n",
        "#tf = TfidfVectorizer(analyzer='word', ngram_range=(1, 2), min_df=0, stop_words='english')\n",
        "#tfidf_matrix = tf.fit_transform(ds['review_text'])"
      ],
      "execution_count": 0,
      "outputs": []
    },
    {
      "cell_type": "code",
      "metadata": {
        "id": "VvOV6CO1Ojdo",
        "colab_type": "code",
        "colab": {
          "base_uri": "https://localhost:8080/",
          "height": 1000
        },
        "outputId": "76afe9b8-9d1a-4a57-e623-f02aea686965"
      },
      "source": [
        "from sklearn.utils import shuffle\n",
        "# shuffling the data\n",
        "mod_cloth_data = shuffle(mod_cloth_data)\n",
        "mod_cloth_data.head(20)"
      ],
      "execution_count": 190,
      "outputs": [
        {
          "output_type": "execute_result",
          "data": {
            "text/html": [
              "<div>\n",
              "<style scoped>\n",
              "    .dataframe tbody tr th:only-of-type {\n",
              "        vertical-align: middle;\n",
              "    }\n",
              "\n",
              "    .dataframe tbody tr th {\n",
              "        vertical-align: top;\n",
              "    }\n",
              "\n",
              "    .dataframe thead th {\n",
              "        text-align: right;\n",
              "    }\n",
              "</style>\n",
              "<table border=\"1\" class=\"dataframe\">\n",
              "  <thead>\n",
              "    <tr style=\"text-align: right;\">\n",
              "      <th></th>\n",
              "      <th>item_id</th>\n",
              "      <th>waist</th>\n",
              "      <th>size</th>\n",
              "      <th>quality</th>\n",
              "      <th>cup_size</th>\n",
              "      <th>hips</th>\n",
              "      <th>bra_size</th>\n",
              "      <th>category</th>\n",
              "      <th>bust</th>\n",
              "      <th>height</th>\n",
              "      <th>user_name</th>\n",
              "      <th>length</th>\n",
              "      <th>fit</th>\n",
              "      <th>user_id</th>\n",
              "      <th>shoe_size</th>\n",
              "      <th>shoe_width</th>\n",
              "      <th>review_summary</th>\n",
              "      <th>review_text</th>\n",
              "    </tr>\n",
              "  </thead>\n",
              "  <tbody>\n",
              "    <tr>\n",
              "      <th>28041</th>\n",
              "      <td>399356</td>\n",
              "      <td>NaN</td>\n",
              "      <td>8</td>\n",
              "      <td>5.0</td>\n",
              "      <td>d</td>\n",
              "      <td>NaN</td>\n",
              "      <td>34.0</td>\n",
              "      <td>sale</td>\n",
              "      <td>NaN</td>\n",
              "      <td>5ft 4in</td>\n",
              "      <td>Hannah S.</td>\n",
              "      <td>just right</td>\n",
              "      <td>fit</td>\n",
              "      <td>635853</td>\n",
              "      <td>NaN</td>\n",
              "      <td>NaN</td>\n",
              "      <td>Great Boho Style</td>\n",
              "      <td>This dress was perfect for my summer boho wedd...</td>\n",
              "    </tr>\n",
              "    <tr>\n",
              "      <th>81019</th>\n",
              "      <td>803464</td>\n",
              "      <td>NaN</td>\n",
              "      <td>26</td>\n",
              "      <td>2.0</td>\n",
              "      <td>d</td>\n",
              "      <td>51.0</td>\n",
              "      <td>42.0</td>\n",
              "      <td>outerwear</td>\n",
              "      <td>NaN</td>\n",
              "      <td>5ft 2in</td>\n",
              "      <td>laurenlynn82</td>\n",
              "      <td>just right</td>\n",
              "      <td>fit</td>\n",
              "      <td>269685</td>\n",
              "      <td>NaN</td>\n",
              "      <td>NaN</td>\n",
              "      <td>I like the way it looked</td>\n",
              "      <td>I like the way it looked online way better tha...</td>\n",
              "    </tr>\n",
              "    <tr>\n",
              "      <th>31355</th>\n",
              "      <td>407134</td>\n",
              "      <td>NaN</td>\n",
              "      <td>26</td>\n",
              "      <td>3.0</td>\n",
              "      <td>dddd/g</td>\n",
              "      <td>NaN</td>\n",
              "      <td>40.0</td>\n",
              "      <td>new</td>\n",
              "      <td>NaN</td>\n",
              "      <td>5ft 3in</td>\n",
              "      <td>maddiehoskins</td>\n",
              "      <td>just right</td>\n",
              "      <td>small</td>\n",
              "      <td>972353</td>\n",
              "      <td>NaN</td>\n",
              "      <td>NaN</td>\n",
              "      <td>Generally a pretty good s</td>\n",
              "      <td>Generally a pretty good sweaterit gets a lot o...</td>\n",
              "    </tr>\n",
              "    <tr>\n",
              "      <th>7082</th>\n",
              "      <td>152702</td>\n",
              "      <td>NaN</td>\n",
              "      <td>8</td>\n",
              "      <td>5.0</td>\n",
              "      <td>d</td>\n",
              "      <td>NaN</td>\n",
              "      <td>32.0</td>\n",
              "      <td>new</td>\n",
              "      <td>NaN</td>\n",
              "      <td>5ft 8in</td>\n",
              "      <td>lauren.main28</td>\n",
              "      <td>just right</td>\n",
              "      <td>fit</td>\n",
              "      <td>544779</td>\n",
              "      <td>NaN</td>\n",
              "      <td>NaN</td>\n",
              "      <td>I read all these reviews</td>\n",
              "      <td>I read all these reviews and I had high expect...</td>\n",
              "    </tr>\n",
              "    <tr>\n",
              "      <th>69006</th>\n",
              "      <td>715662</td>\n",
              "      <td>NaN</td>\n",
              "      <td>32</td>\n",
              "      <td>5.0</td>\n",
              "      <td>dd/e</td>\n",
              "      <td>NaN</td>\n",
              "      <td>38.0</td>\n",
              "      <td>bottoms</td>\n",
              "      <td>NaN</td>\n",
              "      <td>5ft 4in</td>\n",
              "      <td>guardgirlieinm</td>\n",
              "      <td>just right</td>\n",
              "      <td>fit</td>\n",
              "      <td>631906</td>\n",
              "      <td>8.5</td>\n",
              "      <td>average</td>\n",
              "      <td>Love these shorts! Will b</td>\n",
              "      <td>Love these shorts! Will buy more for next summer!</td>\n",
              "    </tr>\n",
              "    <tr>\n",
              "      <th>12918</th>\n",
              "      <td>169727</td>\n",
              "      <td>NaN</td>\n",
              "      <td>12</td>\n",
              "      <td>3.0</td>\n",
              "      <td>d</td>\n",
              "      <td>NaN</td>\n",
              "      <td>36.0</td>\n",
              "      <td>dresses</td>\n",
              "      <td>NaN</td>\n",
              "      <td>5ft 7in</td>\n",
              "      <td>Marta</td>\n",
              "      <td>just right</td>\n",
              "      <td>fit</td>\n",
              "      <td>45583</td>\n",
              "      <td>NaN</td>\n",
              "      <td>NaN</td>\n",
              "      <td>Very cute. A little narro</td>\n",
              "      <td>Very cute. A little narrow in the chest.</td>\n",
              "    </tr>\n",
              "    <tr>\n",
              "      <th>2412</th>\n",
              "      <td>131951</td>\n",
              "      <td>NaN</td>\n",
              "      <td>20</td>\n",
              "      <td>3.0</td>\n",
              "      <td>d</td>\n",
              "      <td>48.0</td>\n",
              "      <td>36.0</td>\n",
              "      <td>new</td>\n",
              "      <td>NaN</td>\n",
              "      <td>5ft 7in</td>\n",
              "      <td>shakespearegal</td>\n",
              "      <td>just right</td>\n",
              "      <td>large</td>\n",
              "      <td>576621</td>\n",
              "      <td>NaN</td>\n",
              "      <td>NaN</td>\n",
              "      <td>NaN</td>\n",
              "      <td>NaN</td>\n",
              "    </tr>\n",
              "    <tr>\n",
              "      <th>56209</th>\n",
              "      <td>639328</td>\n",
              "      <td>NaN</td>\n",
              "      <td>20</td>\n",
              "      <td>4.0</td>\n",
              "      <td>dd/e</td>\n",
              "      <td>47.0</td>\n",
              "      <td>40.0</td>\n",
              "      <td>tops</td>\n",
              "      <td>NaN</td>\n",
              "      <td>5ft 1in</td>\n",
              "      <td>saturn71369</td>\n",
              "      <td>slightly long</td>\n",
              "      <td>fit</td>\n",
              "      <td>901931</td>\n",
              "      <td>NaN</td>\n",
              "      <td>NaN</td>\n",
              "      <td>This is my 4th endless po</td>\n",
              "      <td>This is my 4th endless possibilities top and I...</td>\n",
              "    </tr>\n",
              "    <tr>\n",
              "      <th>43591</th>\n",
              "      <td>477210</td>\n",
              "      <td>NaN</td>\n",
              "      <td>20</td>\n",
              "      <td>3.0</td>\n",
              "      <td>d</td>\n",
              "      <td>48.0</td>\n",
              "      <td>38.0</td>\n",
              "      <td>tops</td>\n",
              "      <td>NaN</td>\n",
              "      <td>5ft 7in</td>\n",
              "      <td>spitfire.sam</td>\n",
              "      <td>slightly short</td>\n",
              "      <td>large</td>\n",
              "      <td>274701</td>\n",
              "      <td>NaN</td>\n",
              "      <td>NaN</td>\n",
              "      <td>The material is thin, bit</td>\n",
              "      <td>The material is thin, bit I don't mind that. T...</td>\n",
              "    </tr>\n",
              "    <tr>\n",
              "      <th>32098</th>\n",
              "      <td>407134</td>\n",
              "      <td>NaN</td>\n",
              "      <td>8</td>\n",
              "      <td>2.0</td>\n",
              "      <td>ddd/f</td>\n",
              "      <td>36.0</td>\n",
              "      <td>30.0</td>\n",
              "      <td>new</td>\n",
              "      <td>NaN</td>\n",
              "      <td>5ft 6in</td>\n",
              "      <td>alex_petkus</td>\n",
              "      <td>just right</td>\n",
              "      <td>small</td>\n",
              "      <td>370392</td>\n",
              "      <td>NaN</td>\n",
              "      <td>NaN</td>\n",
              "      <td>So disappointedI joined M</td>\n",
              "      <td>So disappointedI joined ModCloth specifically ...</td>\n",
              "    </tr>\n",
              "    <tr>\n",
              "      <th>7531</th>\n",
              "      <td>153494</td>\n",
              "      <td>NaN</td>\n",
              "      <td>8</td>\n",
              "      <td>4.0</td>\n",
              "      <td>b</td>\n",
              "      <td>NaN</td>\n",
              "      <td>36.0</td>\n",
              "      <td>new</td>\n",
              "      <td>NaN</td>\n",
              "      <td>5ft 6in</td>\n",
              "      <td>cpim1400</td>\n",
              "      <td>just right</td>\n",
              "      <td>fit</td>\n",
              "      <td>114122</td>\n",
              "      <td>NaN</td>\n",
              "      <td>NaN</td>\n",
              "      <td>Love the fit of this dres</td>\n",
              "      <td>Love the fit of this dress! It's long, and the...</td>\n",
              "    </tr>\n",
              "    <tr>\n",
              "      <th>59333</th>\n",
              "      <td>654585</td>\n",
              "      <td>NaN</td>\n",
              "      <td>8</td>\n",
              "      <td>4.0</td>\n",
              "      <td>b</td>\n",
              "      <td>35.0</td>\n",
              "      <td>34.0</td>\n",
              "      <td>bottoms</td>\n",
              "      <td>NaN</td>\n",
              "      <td>5ft 7in</td>\n",
              "      <td>Jess</td>\n",
              "      <td>just right</td>\n",
              "      <td>small</td>\n",
              "      <td>171995</td>\n",
              "      <td>NaN</td>\n",
              "      <td>NaN</td>\n",
              "      <td>I love this skirt! the be</td>\n",
              "      <td>I love this skirt! the belt it comes with isn'...</td>\n",
              "    </tr>\n",
              "    <tr>\n",
              "      <th>80010</th>\n",
              "      <td>792006</td>\n",
              "      <td>NaN</td>\n",
              "      <td>4</td>\n",
              "      <td>3.0</td>\n",
              "      <td>a</td>\n",
              "      <td>32.0</td>\n",
              "      <td>34.0</td>\n",
              "      <td>sale</td>\n",
              "      <td>NaN</td>\n",
              "      <td>5ft 7in</td>\n",
              "      <td>poot869</td>\n",
              "      <td>just right</td>\n",
              "      <td>fit</td>\n",
              "      <td>506250</td>\n",
              "      <td>NaN</td>\n",
              "      <td>NaN</td>\n",
              "      <td>I love this I like the fa</td>\n",
              "      <td>I love this I like the fact that it is a very ...</td>\n",
              "    </tr>\n",
              "    <tr>\n",
              "      <th>76</th>\n",
              "      <td>124124</td>\n",
              "      <td>NaN</td>\n",
              "      <td>26</td>\n",
              "      <td>4.0</td>\n",
              "      <td>d</td>\n",
              "      <td>48.0</td>\n",
              "      <td>38.0</td>\n",
              "      <td>new</td>\n",
              "      <td>NaN</td>\n",
              "      <td>5ft 8in</td>\n",
              "      <td>ryleelsmith86</td>\n",
              "      <td>just right</td>\n",
              "      <td>large</td>\n",
              "      <td>788911</td>\n",
              "      <td>NaN</td>\n",
              "      <td>NaN</td>\n",
              "      <td>NaN</td>\n",
              "      <td>NaN</td>\n",
              "    </tr>\n",
              "    <tr>\n",
              "      <th>58454</th>\n",
              "      <td>647551</td>\n",
              "      <td>NaN</td>\n",
              "      <td>8</td>\n",
              "      <td>5.0</td>\n",
              "      <td>c</td>\n",
              "      <td>35.0</td>\n",
              "      <td>36.0</td>\n",
              "      <td>tops</td>\n",
              "      <td>NaN</td>\n",
              "      <td>5ft 3in</td>\n",
              "      <td>Melissa</td>\n",
              "      <td>just right</td>\n",
              "      <td>fit</td>\n",
              "      <td>777238</td>\n",
              "      <td>NaN</td>\n",
              "      <td>NaN</td>\n",
              "      <td>perfect with leggings. th</td>\n",
              "      <td>perfect with leggings. the fit is very flowy b...</td>\n",
              "    </tr>\n",
              "    <tr>\n",
              "      <th>43924</th>\n",
              "      <td>478481</td>\n",
              "      <td>NaN</td>\n",
              "      <td>4</td>\n",
              "      <td>5.0</td>\n",
              "      <td>b</td>\n",
              "      <td>37.0</td>\n",
              "      <td>34.0</td>\n",
              "      <td>tops</td>\n",
              "      <td>NaN</td>\n",
              "      <td>5ft 3in</td>\n",
              "      <td>akruton</td>\n",
              "      <td>slightly long</td>\n",
              "      <td>fit</td>\n",
              "      <td>50760</td>\n",
              "      <td>NaN</td>\n",
              "      <td>NaN</td>\n",
              "      <td>Comfy and cover my butt i</td>\n",
              "      <td>Comfy and cover my butt in yoga pants which is...</td>\n",
              "    </tr>\n",
              "    <tr>\n",
              "      <th>54274</th>\n",
              "      <td>630114</td>\n",
              "      <td>NaN</td>\n",
              "      <td>8</td>\n",
              "      <td>5.0</td>\n",
              "      <td>b</td>\n",
              "      <td>NaN</td>\n",
              "      <td>36.0</td>\n",
              "      <td>tops</td>\n",
              "      <td>NaN</td>\n",
              "      <td>5ft 2in</td>\n",
              "      <td>battlestar13</td>\n",
              "      <td>just right</td>\n",
              "      <td>fit</td>\n",
              "      <td>63734</td>\n",
              "      <td>NaN</td>\n",
              "      <td>NaN</td>\n",
              "      <td>I bought this at a pop up</td>\n",
              "      <td>I bought this at a pop up sale in Los Angeles....</td>\n",
              "    </tr>\n",
              "    <tr>\n",
              "      <th>77220</th>\n",
              "      <td>768242</td>\n",
              "      <td>NaN</td>\n",
              "      <td>15</td>\n",
              "      <td>5.0</td>\n",
              "      <td>c</td>\n",
              "      <td>40.0</td>\n",
              "      <td>38.0</td>\n",
              "      <td>bottoms</td>\n",
              "      <td>NaN</td>\n",
              "      <td>5ft 10in</td>\n",
              "      <td>Briana</td>\n",
              "      <td>just right</td>\n",
              "      <td>fit</td>\n",
              "      <td>64650</td>\n",
              "      <td>NaN</td>\n",
              "      <td>NaN</td>\n",
              "      <td>Super adorable!</td>\n",
              "      <td>Super adorable!</td>\n",
              "    </tr>\n",
              "    <tr>\n",
              "      <th>76655</th>\n",
              "      <td>760113</td>\n",
              "      <td>NaN</td>\n",
              "      <td>32</td>\n",
              "      <td>3.0</td>\n",
              "      <td>ddd/f</td>\n",
              "      <td>NaN</td>\n",
              "      <td>42.0</td>\n",
              "      <td>bottoms</td>\n",
              "      <td>NaN</td>\n",
              "      <td>5ft 4in</td>\n",
              "      <td>candigital</td>\n",
              "      <td>slightly short</td>\n",
              "      <td>small</td>\n",
              "      <td>427446</td>\n",
              "      <td>NaN</td>\n",
              "      <td>NaN</td>\n",
              "      <td>These tights hit my waist</td>\n",
              "      <td>These tights hit my waist in an awkward area w...</td>\n",
              "    </tr>\n",
              "    <tr>\n",
              "      <th>32615</th>\n",
              "      <td>407134</td>\n",
              "      <td>NaN</td>\n",
              "      <td>12</td>\n",
              "      <td>4.0</td>\n",
              "      <td>c</td>\n",
              "      <td>NaN</td>\n",
              "      <td>38.0</td>\n",
              "      <td>new</td>\n",
              "      <td>NaN</td>\n",
              "      <td>5ft 1in</td>\n",
              "      <td>Marisa</td>\n",
              "      <td>slightly long</td>\n",
              "      <td>fit</td>\n",
              "      <td>355246</td>\n",
              "      <td>NaN</td>\n",
              "      <td>NaN</td>\n",
              "      <td>Very nice jacket. a littl</td>\n",
              "      <td>Very nice jacket. a little tight on me if i zi...</td>\n",
              "    </tr>\n",
              "  </tbody>\n",
              "</table>\n",
              "</div>"
            ],
            "text/plain": [
              "       item_id  ...                                        review_text\n",
              "28041   399356  ...  This dress was perfect for my summer boho wedd...\n",
              "81019   803464  ...  I like the way it looked online way better tha...\n",
              "31355   407134  ...  Generally a pretty good sweaterit gets a lot o...\n",
              "7082    152702  ...  I read all these reviews and I had high expect...\n",
              "69006   715662  ...  Love these shorts! Will buy more for next summer!\n",
              "12918   169727  ...           Very cute. A little narrow in the chest.\n",
              "2412    131951  ...                                                NaN\n",
              "56209   639328  ...  This is my 4th endless possibilities top and I...\n",
              "43591   477210  ...  The material is thin, bit I don't mind that. T...\n",
              "32098   407134  ...  So disappointedI joined ModCloth specifically ...\n",
              "7531    153494  ...  Love the fit of this dress! It's long, and the...\n",
              "59333   654585  ...  I love this skirt! the belt it comes with isn'...\n",
              "80010   792006  ...  I love this I like the fact that it is a very ...\n",
              "76      124124  ...                                                NaN\n",
              "58454   647551  ...  perfect with leggings. the fit is very flowy b...\n",
              "43924   478481  ...  Comfy and cover my butt in yoga pants which is...\n",
              "54274   630114  ...  I bought this at a pop up sale in Los Angeles....\n",
              "77220   768242  ...                                    Super adorable!\n",
              "76655   760113  ...  These tights hit my waist in an awkward area w...\n",
              "32615   407134  ...  Very nice jacket. a little tight on me if i zi...\n",
              "\n",
              "[20 rows x 18 columns]"
            ]
          },
          "metadata": {
            "tags": []
          },
          "execution_count": 190
        }
      ]
    },
    {
      "cell_type": "code",
      "metadata": {
        "id": "b2oysyeGOo_p",
        "colab_type": "code",
        "colab": {
          "base_uri": "https://localhost:8080/",
          "height": 164
        },
        "outputId": "808c5160-fef1-43a5-bb67-46de3f49c95c"
      },
      "source": [
        "mod_cloth_data.bra_size = mod_cloth_data.bra_size.fillna(-1.0)\n",
        "mod_cloth_data.head(1)"
      ],
      "execution_count": 191,
      "outputs": [
        {
          "output_type": "execute_result",
          "data": {
            "text/html": [
              "<div>\n",
              "<style scoped>\n",
              "    .dataframe tbody tr th:only-of-type {\n",
              "        vertical-align: middle;\n",
              "    }\n",
              "\n",
              "    .dataframe tbody tr th {\n",
              "        vertical-align: top;\n",
              "    }\n",
              "\n",
              "    .dataframe thead th {\n",
              "        text-align: right;\n",
              "    }\n",
              "</style>\n",
              "<table border=\"1\" class=\"dataframe\">\n",
              "  <thead>\n",
              "    <tr style=\"text-align: right;\">\n",
              "      <th></th>\n",
              "      <th>item_id</th>\n",
              "      <th>waist</th>\n",
              "      <th>size</th>\n",
              "      <th>quality</th>\n",
              "      <th>cup_size</th>\n",
              "      <th>hips</th>\n",
              "      <th>bra_size</th>\n",
              "      <th>category</th>\n",
              "      <th>bust</th>\n",
              "      <th>height</th>\n",
              "      <th>user_name</th>\n",
              "      <th>length</th>\n",
              "      <th>fit</th>\n",
              "      <th>user_id</th>\n",
              "      <th>shoe_size</th>\n",
              "      <th>shoe_width</th>\n",
              "      <th>review_summary</th>\n",
              "      <th>review_text</th>\n",
              "    </tr>\n",
              "  </thead>\n",
              "  <tbody>\n",
              "    <tr>\n",
              "      <th>28041</th>\n",
              "      <td>399356</td>\n",
              "      <td>NaN</td>\n",
              "      <td>8</td>\n",
              "      <td>5.0</td>\n",
              "      <td>d</td>\n",
              "      <td>NaN</td>\n",
              "      <td>34.0</td>\n",
              "      <td>sale</td>\n",
              "      <td>NaN</td>\n",
              "      <td>5ft 4in</td>\n",
              "      <td>Hannah S.</td>\n",
              "      <td>just right</td>\n",
              "      <td>fit</td>\n",
              "      <td>635853</td>\n",
              "      <td>NaN</td>\n",
              "      <td>NaN</td>\n",
              "      <td>Great Boho Style</td>\n",
              "      <td>This dress was perfect for my summer boho wedd...</td>\n",
              "    </tr>\n",
              "  </tbody>\n",
              "</table>\n",
              "</div>"
            ],
            "text/plain": [
              "       item_id  ...                                        review_text\n",
              "28041   399356  ...  This dress was perfect for my summer boho wedd...\n",
              "\n",
              "[1 rows x 18 columns]"
            ]
          },
          "metadata": {
            "tags": []
          },
          "execution_count": 191
        }
      ]
    },
    {
      "cell_type": "code",
      "metadata": {
        "id": "R41rjK73O-UO",
        "colab_type": "code",
        "colab": {
          "base_uri": "https://localhost:8080/",
          "height": 164
        },
        "outputId": "ae4c28e8-2cca-4079-f0e1-40d24004a57a"
      },
      "source": [
        "#clean dataset for null data\n",
        "mod_cloth_data.cup_size.fillna('Unknown', inplace=True)\n",
        "#cloth_data.cup_size = cloth_data.cup_size.astype('category').cat.as_ordered()\n",
        "mod_cloth_data.head(1)"
      ],
      "execution_count": 192,
      "outputs": [
        {
          "output_type": "execute_result",
          "data": {
            "text/html": [
              "<div>\n",
              "<style scoped>\n",
              "    .dataframe tbody tr th:only-of-type {\n",
              "        vertical-align: middle;\n",
              "    }\n",
              "\n",
              "    .dataframe tbody tr th {\n",
              "        vertical-align: top;\n",
              "    }\n",
              "\n",
              "    .dataframe thead th {\n",
              "        text-align: right;\n",
              "    }\n",
              "</style>\n",
              "<table border=\"1\" class=\"dataframe\">\n",
              "  <thead>\n",
              "    <tr style=\"text-align: right;\">\n",
              "      <th></th>\n",
              "      <th>item_id</th>\n",
              "      <th>waist</th>\n",
              "      <th>size</th>\n",
              "      <th>quality</th>\n",
              "      <th>cup_size</th>\n",
              "      <th>hips</th>\n",
              "      <th>bra_size</th>\n",
              "      <th>category</th>\n",
              "      <th>bust</th>\n",
              "      <th>height</th>\n",
              "      <th>user_name</th>\n",
              "      <th>length</th>\n",
              "      <th>fit</th>\n",
              "      <th>user_id</th>\n",
              "      <th>shoe_size</th>\n",
              "      <th>shoe_width</th>\n",
              "      <th>review_summary</th>\n",
              "      <th>review_text</th>\n",
              "    </tr>\n",
              "  </thead>\n",
              "  <tbody>\n",
              "    <tr>\n",
              "      <th>28041</th>\n",
              "      <td>399356</td>\n",
              "      <td>NaN</td>\n",
              "      <td>8</td>\n",
              "      <td>5.0</td>\n",
              "      <td>d</td>\n",
              "      <td>NaN</td>\n",
              "      <td>34.0</td>\n",
              "      <td>sale</td>\n",
              "      <td>NaN</td>\n",
              "      <td>5ft 4in</td>\n",
              "      <td>Hannah S.</td>\n",
              "      <td>just right</td>\n",
              "      <td>fit</td>\n",
              "      <td>635853</td>\n",
              "      <td>NaN</td>\n",
              "      <td>NaN</td>\n",
              "      <td>Great Boho Style</td>\n",
              "      <td>This dress was perfect for my summer boho wedd...</td>\n",
              "    </tr>\n",
              "  </tbody>\n",
              "</table>\n",
              "</div>"
            ],
            "text/plain": [
              "       item_id  ...                                        review_text\n",
              "28041   399356  ...  This dress was perfect for my summer boho wedd...\n",
              "\n",
              "[1 rows x 18 columns]"
            ]
          },
          "metadata": {
            "tags": []
          },
          "execution_count": 192
        }
      ]
    },
    {
      "cell_type": "code",
      "metadata": {
        "id": "eSOu2kqcPCaf",
        "colab_type": "code",
        "colab": {
          "base_uri": "https://localhost:8080/",
          "height": 164
        },
        "outputId": "92b2da3b-d2ba-48b2-d9e5-75af9e72a198"
      },
      "source": [
        "def convert_to_cms(x):\n",
        "  if type(x) == type(1.0):\n",
        "    return\n",
        "  try:\n",
        "    return (int(x[0])*30.48) + (int(x[4:-2])*2.54)\n",
        "  except:\n",
        "    return (int(x[0])*30.48)\n",
        "\n",
        "mod_cloth_data.height = mod_cloth_data.height.apply(convert_to_cms)\n",
        "mod_cloth_data.head(1)"
      ],
      "execution_count": 193,
      "outputs": [
        {
          "output_type": "execute_result",
          "data": {
            "text/html": [
              "<div>\n",
              "<style scoped>\n",
              "    .dataframe tbody tr th:only-of-type {\n",
              "        vertical-align: middle;\n",
              "    }\n",
              "\n",
              "    .dataframe tbody tr th {\n",
              "        vertical-align: top;\n",
              "    }\n",
              "\n",
              "    .dataframe thead th {\n",
              "        text-align: right;\n",
              "    }\n",
              "</style>\n",
              "<table border=\"1\" class=\"dataframe\">\n",
              "  <thead>\n",
              "    <tr style=\"text-align: right;\">\n",
              "      <th></th>\n",
              "      <th>item_id</th>\n",
              "      <th>waist</th>\n",
              "      <th>size</th>\n",
              "      <th>quality</th>\n",
              "      <th>cup_size</th>\n",
              "      <th>hips</th>\n",
              "      <th>bra_size</th>\n",
              "      <th>category</th>\n",
              "      <th>bust</th>\n",
              "      <th>height</th>\n",
              "      <th>user_name</th>\n",
              "      <th>length</th>\n",
              "      <th>fit</th>\n",
              "      <th>user_id</th>\n",
              "      <th>shoe_size</th>\n",
              "      <th>shoe_width</th>\n",
              "      <th>review_summary</th>\n",
              "      <th>review_text</th>\n",
              "    </tr>\n",
              "  </thead>\n",
              "  <tbody>\n",
              "    <tr>\n",
              "      <th>28041</th>\n",
              "      <td>399356</td>\n",
              "      <td>NaN</td>\n",
              "      <td>8</td>\n",
              "      <td>5.0</td>\n",
              "      <td>d</td>\n",
              "      <td>NaN</td>\n",
              "      <td>34.0</td>\n",
              "      <td>sale</td>\n",
              "      <td>NaN</td>\n",
              "      <td>162.56</td>\n",
              "      <td>Hannah S.</td>\n",
              "      <td>just right</td>\n",
              "      <td>fit</td>\n",
              "      <td>635853</td>\n",
              "      <td>NaN</td>\n",
              "      <td>NaN</td>\n",
              "      <td>Great Boho Style</td>\n",
              "      <td>This dress was perfect for my summer boho wedd...</td>\n",
              "    </tr>\n",
              "  </tbody>\n",
              "</table>\n",
              "</div>"
            ],
            "text/plain": [
              "       item_id  ...                                        review_text\n",
              "28041   399356  ...  This dress was perfect for my summer boho wedd...\n",
              "\n",
              "[1 rows x 18 columns]"
            ]
          },
          "metadata": {
            "tags": []
          },
          "execution_count": 193
        }
      ]
    },
    {
      "cell_type": "code",
      "metadata": {
        "id": "3lcgM_s-PKD1",
        "colab_type": "code",
        "colab": {
          "base_uri": "https://localhost:8080/",
          "height": 164
        },
        "outputId": "9e6ed1fe-d83f-423d-a037-5d3fc558090c"
      },
      "source": [
        "mod_cloth_data.hips = mod_cloth_data.hips.fillna(-2.0)\n",
        "bins = [-5,0,31,37,40,44,75]\n",
        "labels = ['Unknown','XS','S','M', 'L','XL']\n",
        "mod_cloth_data.hips = pd.cut(mod_cloth_data.hips, bins, labels=labels)\n",
        "mod_cloth_data.head(1)"
      ],
      "execution_count": 194,
      "outputs": [
        {
          "output_type": "execute_result",
          "data": {
            "text/html": [
              "<div>\n",
              "<style scoped>\n",
              "    .dataframe tbody tr th:only-of-type {\n",
              "        vertical-align: middle;\n",
              "    }\n",
              "\n",
              "    .dataframe tbody tr th {\n",
              "        vertical-align: top;\n",
              "    }\n",
              "\n",
              "    .dataframe thead th {\n",
              "        text-align: right;\n",
              "    }\n",
              "</style>\n",
              "<table border=\"1\" class=\"dataframe\">\n",
              "  <thead>\n",
              "    <tr style=\"text-align: right;\">\n",
              "      <th></th>\n",
              "      <th>item_id</th>\n",
              "      <th>waist</th>\n",
              "      <th>size</th>\n",
              "      <th>quality</th>\n",
              "      <th>cup_size</th>\n",
              "      <th>hips</th>\n",
              "      <th>bra_size</th>\n",
              "      <th>category</th>\n",
              "      <th>bust</th>\n",
              "      <th>height</th>\n",
              "      <th>user_name</th>\n",
              "      <th>length</th>\n",
              "      <th>fit</th>\n",
              "      <th>user_id</th>\n",
              "      <th>shoe_size</th>\n",
              "      <th>shoe_width</th>\n",
              "      <th>review_summary</th>\n",
              "      <th>review_text</th>\n",
              "    </tr>\n",
              "  </thead>\n",
              "  <tbody>\n",
              "    <tr>\n",
              "      <th>28041</th>\n",
              "      <td>399356</td>\n",
              "      <td>NaN</td>\n",
              "      <td>8</td>\n",
              "      <td>5.0</td>\n",
              "      <td>d</td>\n",
              "      <td>Unknown</td>\n",
              "      <td>34.0</td>\n",
              "      <td>sale</td>\n",
              "      <td>NaN</td>\n",
              "      <td>162.56</td>\n",
              "      <td>Hannah S.</td>\n",
              "      <td>just right</td>\n",
              "      <td>fit</td>\n",
              "      <td>635853</td>\n",
              "      <td>NaN</td>\n",
              "      <td>NaN</td>\n",
              "      <td>Great Boho Style</td>\n",
              "      <td>This dress was perfect for my summer boho wedd...</td>\n",
              "    </tr>\n",
              "  </tbody>\n",
              "</table>\n",
              "</div>"
            ],
            "text/plain": [
              "       item_id  ...                                        review_text\n",
              "28041   399356  ...  This dress was perfect for my summer boho wedd...\n",
              "\n",
              "[1 rows x 18 columns]"
            ]
          },
          "metadata": {
            "tags": []
          },
          "execution_count": 194
        }
      ]
    },
    {
      "cell_type": "code",
      "metadata": {
        "id": "tvbuUH4iPWVf",
        "colab_type": "code",
        "colab": {}
      },
      "source": [
        "mod_missing_rows = mod_cloth_data[mod_cloth_data.height.isnull()].index\n",
        "mod_cloth_data.drop(mod_missing_rows, axis = 0, inplace=True)"
      ],
      "execution_count": 0,
      "outputs": []
    },
    {
      "cell_type": "code",
      "metadata": {
        "id": "pQ2nw5QOfzFm",
        "colab_type": "code",
        "colab": {
          "base_uri": "https://localhost:8080/",
          "height": 584
        },
        "outputId": "8aec91f3-2639-4ad8-fa92-ac09bb95b070"
      },
      "source": [
        "#observing the missing data. This is used to see which features should not be included to train the model\n",
        "missing_data = pd.DataFrame({'total_missing': mod_cloth_data.isnull().sum(), 'perc_missing': (mod_cloth_data.isnull().sum()/82790)*100})\n",
        "missing_data"
      ],
      "execution_count": 196,
      "outputs": [
        {
          "output_type": "execute_result",
          "data": {
            "text/html": [
              "<div>\n",
              "<style scoped>\n",
              "    .dataframe tbody tr th:only-of-type {\n",
              "        vertical-align: middle;\n",
              "    }\n",
              "\n",
              "    .dataframe tbody tr th {\n",
              "        vertical-align: top;\n",
              "    }\n",
              "\n",
              "    .dataframe thead th {\n",
              "        text-align: right;\n",
              "    }\n",
              "</style>\n",
              "<table border=\"1\" class=\"dataframe\">\n",
              "  <thead>\n",
              "    <tr style=\"text-align: right;\">\n",
              "      <th></th>\n",
              "      <th>total_missing</th>\n",
              "      <th>perc_missing</th>\n",
              "    </tr>\n",
              "  </thead>\n",
              "  <tbody>\n",
              "    <tr>\n",
              "      <th>item_id</th>\n",
              "      <td>0</td>\n",
              "      <td>0.000000</td>\n",
              "    </tr>\n",
              "    <tr>\n",
              "      <th>waist</th>\n",
              "      <td>78831</td>\n",
              "      <td>95.218022</td>\n",
              "    </tr>\n",
              "    <tr>\n",
              "      <th>size</th>\n",
              "      <td>0</td>\n",
              "      <td>0.000000</td>\n",
              "    </tr>\n",
              "    <tr>\n",
              "      <th>quality</th>\n",
              "      <td>64</td>\n",
              "      <td>0.077304</td>\n",
              "    </tr>\n",
              "    <tr>\n",
              "      <th>cup_size</th>\n",
              "      <td>0</td>\n",
              "      <td>0.000000</td>\n",
              "    </tr>\n",
              "    <tr>\n",
              "      <th>hips</th>\n",
              "      <td>0</td>\n",
              "      <td>0.000000</td>\n",
              "    </tr>\n",
              "    <tr>\n",
              "      <th>bra_size</th>\n",
              "      <td>0</td>\n",
              "      <td>0.000000</td>\n",
              "    </tr>\n",
              "    <tr>\n",
              "      <th>category</th>\n",
              "      <td>0</td>\n",
              "      <td>0.000000</td>\n",
              "    </tr>\n",
              "    <tr>\n",
              "      <th>bust</th>\n",
              "      <td>69872</td>\n",
              "      <td>84.396666</td>\n",
              "    </tr>\n",
              "    <tr>\n",
              "      <th>height</th>\n",
              "      <td>0</td>\n",
              "      <td>0.000000</td>\n",
              "    </tr>\n",
              "    <tr>\n",
              "      <th>user_name</th>\n",
              "      <td>0</td>\n",
              "      <td>0.000000</td>\n",
              "    </tr>\n",
              "    <tr>\n",
              "      <th>length</th>\n",
              "      <td>34</td>\n",
              "      <td>0.041068</td>\n",
              "    </tr>\n",
              "    <tr>\n",
              "      <th>fit</th>\n",
              "      <td>0</td>\n",
              "      <td>0.000000</td>\n",
              "    </tr>\n",
              "    <tr>\n",
              "      <th>user_id</th>\n",
              "      <td>0</td>\n",
              "      <td>0.000000</td>\n",
              "    </tr>\n",
              "    <tr>\n",
              "      <th>shoe_size</th>\n",
              "      <td>54133</td>\n",
              "      <td>65.385916</td>\n",
              "    </tr>\n",
              "    <tr>\n",
              "      <th>shoe_width</th>\n",
              "      <td>63278</td>\n",
              "      <td>76.431936</td>\n",
              "    </tr>\n",
              "    <tr>\n",
              "      <th>review_summary</th>\n",
              "      <td>6621</td>\n",
              "      <td>7.997343</td>\n",
              "    </tr>\n",
              "    <tr>\n",
              "      <th>review_text</th>\n",
              "      <td>6621</td>\n",
              "      <td>7.997343</td>\n",
              "    </tr>\n",
              "  </tbody>\n",
              "</table>\n",
              "</div>"
            ],
            "text/plain": [
              "                total_missing  perc_missing\n",
              "item_id                     0      0.000000\n",
              "waist                   78831     95.218022\n",
              "size                        0      0.000000\n",
              "quality                    64      0.077304\n",
              "cup_size                    0      0.000000\n",
              "hips                        0      0.000000\n",
              "bra_size                    0      0.000000\n",
              "category                    0      0.000000\n",
              "bust                    69872     84.396666\n",
              "height                      0      0.000000\n",
              "user_name                   0      0.000000\n",
              "length                     34      0.041068\n",
              "fit                         0      0.000000\n",
              "user_id                     0      0.000000\n",
              "shoe_size               54133     65.385916\n",
              "shoe_width              63278     76.431936\n",
              "review_summary           6621      7.997343\n",
              "review_text              6621      7.997343"
            ]
          },
          "metadata": {
            "tags": []
          },
          "execution_count": 196
        }
      ]
    },
    {
      "cell_type": "code",
      "metadata": {
        "id": "Jmfk-CFEf0xT",
        "colab_type": "code",
        "colab": {
          "base_uri": "https://localhost:8080/",
          "height": 196
        },
        "outputId": "1f7b2bb7-6826-45b0-df19-18db29df6178"
      },
      "source": [
        "#Dropping the unwanted data columns\n",
        "mod_cloth_data = mod_cloth_data.drop(['waist', 'quality', 'category', 'bust', 'user_name', 'length', 'shoe_size', 'shoe_width' , 'review_summary', 'review_text'], axis=1)\n",
        "mod_cloth_data.head()"
      ],
      "execution_count": 197,
      "outputs": [
        {
          "output_type": "execute_result",
          "data": {
            "text/html": [
              "<div>\n",
              "<style scoped>\n",
              "    .dataframe tbody tr th:only-of-type {\n",
              "        vertical-align: middle;\n",
              "    }\n",
              "\n",
              "    .dataframe tbody tr th {\n",
              "        vertical-align: top;\n",
              "    }\n",
              "\n",
              "    .dataframe thead th {\n",
              "        text-align: right;\n",
              "    }\n",
              "</style>\n",
              "<table border=\"1\" class=\"dataframe\">\n",
              "  <thead>\n",
              "    <tr style=\"text-align: right;\">\n",
              "      <th></th>\n",
              "      <th>item_id</th>\n",
              "      <th>size</th>\n",
              "      <th>cup_size</th>\n",
              "      <th>hips</th>\n",
              "      <th>bra_size</th>\n",
              "      <th>height</th>\n",
              "      <th>fit</th>\n",
              "      <th>user_id</th>\n",
              "    </tr>\n",
              "  </thead>\n",
              "  <tbody>\n",
              "    <tr>\n",
              "      <th>28041</th>\n",
              "      <td>399356</td>\n",
              "      <td>8</td>\n",
              "      <td>d</td>\n",
              "      <td>Unknown</td>\n",
              "      <td>34.0</td>\n",
              "      <td>162.56</td>\n",
              "      <td>fit</td>\n",
              "      <td>635853</td>\n",
              "    </tr>\n",
              "    <tr>\n",
              "      <th>81019</th>\n",
              "      <td>803464</td>\n",
              "      <td>26</td>\n",
              "      <td>d</td>\n",
              "      <td>XL</td>\n",
              "      <td>42.0</td>\n",
              "      <td>157.48</td>\n",
              "      <td>fit</td>\n",
              "      <td>269685</td>\n",
              "    </tr>\n",
              "    <tr>\n",
              "      <th>31355</th>\n",
              "      <td>407134</td>\n",
              "      <td>26</td>\n",
              "      <td>dddd/g</td>\n",
              "      <td>Unknown</td>\n",
              "      <td>40.0</td>\n",
              "      <td>160.02</td>\n",
              "      <td>small</td>\n",
              "      <td>972353</td>\n",
              "    </tr>\n",
              "    <tr>\n",
              "      <th>7082</th>\n",
              "      <td>152702</td>\n",
              "      <td>8</td>\n",
              "      <td>d</td>\n",
              "      <td>Unknown</td>\n",
              "      <td>32.0</td>\n",
              "      <td>172.72</td>\n",
              "      <td>fit</td>\n",
              "      <td>544779</td>\n",
              "    </tr>\n",
              "    <tr>\n",
              "      <th>69006</th>\n",
              "      <td>715662</td>\n",
              "      <td>32</td>\n",
              "      <td>dd/e</td>\n",
              "      <td>Unknown</td>\n",
              "      <td>38.0</td>\n",
              "      <td>162.56</td>\n",
              "      <td>fit</td>\n",
              "      <td>631906</td>\n",
              "    </tr>\n",
              "  </tbody>\n",
              "</table>\n",
              "</div>"
            ],
            "text/plain": [
              "       item_id  size cup_size     hips  bra_size  height    fit  user_id\n",
              "28041   399356     8        d  Unknown      34.0  162.56    fit   635853\n",
              "81019   803464    26        d       XL      42.0  157.48    fit   269685\n",
              "31355   407134    26   dddd/g  Unknown      40.0  160.02  small   972353\n",
              "7082    152702     8        d  Unknown      32.0  172.72    fit   544779\n",
              "69006   715662    32     dd/e  Unknown      38.0  162.56    fit   631906"
            ]
          },
          "metadata": {
            "tags": []
          },
          "execution_count": 197
        }
      ]
    },
    {
      "cell_type": "code",
      "metadata": {
        "id": "IReM_S-2f43m",
        "colab_type": "code",
        "colab": {}
      },
      "source": [
        "# Changing the data type in order to consider as a valid feature in tensor flow.\n",
        "mod_cloth_data['cup_size'] = mod_cloth_data['cup_size'].astype(str)\n",
        "mod_cloth_data['hips'] = mod_cloth_data['hips'].astype(str)\n",
        "mod_cloth_data['bra_size'] = mod_cloth_data['bra_size'].astype(int)"
      ],
      "execution_count": 0,
      "outputs": []
    },
    {
      "cell_type": "code",
      "metadata": {
        "id": "q3q1gJK1f-Re",
        "colab_type": "code",
        "colab": {
          "base_uri": "https://localhost:8080/",
          "height": 77
        },
        "outputId": "c2296fee-2eaf-4a78-fc25-6017ab6a861e"
      },
      "source": [
        "mod_cloth_data['fit'] = mod_cloth_data.fit.replace('small' , 0)\n",
        "mod_cloth_data['fit'] = mod_cloth_data.fit.replace(\"fit\" , 1)\n",
        "mod_cloth_data['fit'] = mod_cloth_data.fit.replace(\"large\" , 2)\n",
        "mod_cloth_data.head(1)"
      ],
      "execution_count": 154,
      "outputs": [
        {
          "output_type": "execute_result",
          "data": {
            "text/html": [
              "<div>\n",
              "<style scoped>\n",
              "    .dataframe tbody tr th:only-of-type {\n",
              "        vertical-align: middle;\n",
              "    }\n",
              "\n",
              "    .dataframe tbody tr th {\n",
              "        vertical-align: top;\n",
              "    }\n",
              "\n",
              "    .dataframe thead th {\n",
              "        text-align: right;\n",
              "    }\n",
              "</style>\n",
              "<table border=\"1\" class=\"dataframe\">\n",
              "  <thead>\n",
              "    <tr style=\"text-align: right;\">\n",
              "      <th></th>\n",
              "      <th>item_id</th>\n",
              "      <th>size</th>\n",
              "      <th>cup_size</th>\n",
              "      <th>hips</th>\n",
              "      <th>bra_size</th>\n",
              "      <th>height</th>\n",
              "      <th>fit</th>\n",
              "      <th>user_id</th>\n",
              "    </tr>\n",
              "  </thead>\n",
              "  <tbody>\n",
              "    <tr>\n",
              "      <th>48578</th>\n",
              "      <td>520945</td>\n",
              "      <td>4</td>\n",
              "      <td>d</td>\n",
              "      <td>Unknown</td>\n",
              "      <td>32</td>\n",
              "      <td>170.18</td>\n",
              "      <td>1</td>\n",
              "      <td>288643</td>\n",
              "    </tr>\n",
              "  </tbody>\n",
              "</table>\n",
              "</div>"
            ],
            "text/plain": [
              "       item_id  size cup_size     hips  bra_size  height  fit  user_id\n",
              "48578   520945     4        d  Unknown        32  170.18    1   288643"
            ]
          },
          "metadata": {
            "tags": []
          },
          "execution_count": 154
        }
      ]
    },
    {
      "cell_type": "code",
      "metadata": {
        "id": "BZUV03tcpT_Y",
        "colab_type": "code",
        "colab": {}
      },
      "source": [
        "mod_cloth_data['fit_one_hot'] = mod_cloth_data['fit'].str.get_dummies().values.tolist()\n",
        "mod_cloth_data = mod_cloth_data.drop('fit',axis=1)"
      ],
      "execution_count": 0,
      "outputs": []
    },
    {
      "cell_type": "code",
      "metadata": {
        "id": "3QTky7GT28c6",
        "colab_type": "code",
        "colab": {}
      },
      "source": [
        "# from sklearn.decomposition import PCA\n",
        "# import numpy as np\n",
        "# pca = PCA(n_components=len(cloth_data))\n",
        "# pca.fit(cloth_data)\n",
        "# cloth_data = np.matmul(cloth_data, pca.components_.T)"
      ],
      "execution_count": 0,
      "outputs": []
    },
    {
      "cell_type": "markdown",
      "metadata": {
        "id": "tAJpO4veOQQP",
        "colab_type": "text"
      },
      "source": [
        "**Converting preprocessed data from pandas to tensorflow for multiclass classification.**"
      ]
    },
    {
      "cell_type": "code",
      "metadata": {
        "id": "AidcQ-Fa5kBU",
        "colab_type": "code",
        "colab": {}
      },
      "source": [
        "from tensorflow import feature_column\n",
        "from tensorflow.keras import layers\n",
        "from sklearn.model_selection import train_test_split"
      ],
      "execution_count": 0,
      "outputs": []
    },
    {
      "cell_type": "code",
      "metadata": {
        "id": "9h5DmxXm5nSK",
        "colab_type": "code",
        "colab": {}
      },
      "source": [
        "train, test = train_test_split(mod_cloth_data, test_size=0.2)"
      ],
      "execution_count": 0,
      "outputs": []
    },
    {
      "cell_type": "code",
      "metadata": {
        "id": "EZ0MOQ9M5pF-",
        "colab_type": "code",
        "colab": {}
      },
      "source": [
        "train, val = train_test_split(train, test_size=0.2)"
      ],
      "execution_count": 0,
      "outputs": []
    },
    {
      "cell_type": "code",
      "metadata": {
        "id": "0nIK7Jg95rsK",
        "colab_type": "code",
        "colab": {
          "base_uri": "https://localhost:8080/",
          "height": 67
        },
        "outputId": "20ef3eda-c1b0-4093-9d12-5774eeee4b5b"
      },
      "source": [
        "print(len(train))\n",
        "print(len(test))\n",
        "print(len(val))"
      ],
      "execution_count": 203,
      "outputs": [
        {
          "output_type": "stream",
          "text": [
            "52276\n",
            "16337\n",
            "13070\n"
          ],
          "name": "stdout"
        }
      ]
    },
    {
      "cell_type": "code",
      "metadata": {
        "id": "JzpvgS4d5udJ",
        "colab_type": "code",
        "colab": {}
      },
      "source": [
        "def df_to_dataset(dataframe, shuffle=True, batch_size=32):\n",
        "  dataframe = dataframe.copy()\n",
        "  # Replace 'fit_one_hot' with 'fit' when using SparseCategoricalCrossentropy\n",
        "  labels = dataframe.pop('fit_one_hot')\n",
        "  ds = tf.data.Dataset.from_tensor_slices((dict(dataframe), labels))\n",
        "  if shuffle:\n",
        "    ds = ds.shuffle(buffer_size=len(dataframe))\n",
        "  ds = ds.batch(batch_size)\n",
        "  return ds"
      ],
      "execution_count": 0,
      "outputs": []
    },
    {
      "cell_type": "code",
      "metadata": {
        "id": "I2U7SFYj6ckk",
        "colab_type": "code",
        "colab": {}
      },
      "source": [
        "feature_columns = []"
      ],
      "execution_count": 0,
      "outputs": []
    },
    {
      "cell_type": "code",
      "metadata": {
        "id": "V8lRJZW_6fXq",
        "colab_type": "code",
        "colab": {}
      },
      "source": [
        "#Adding the numeric freatures to the freatures column array.\n",
        "feature_columns.append(feature_column.numeric_column(\"height\"))\n",
        "feature_columns.append(feature_column.numeric_column(\"size\"))"
      ],
      "execution_count": 0,
      "outputs": []
    },
    {
      "cell_type": "code",
      "metadata": {
        "id": "K7p1BEna6ixr",
        "colab_type": "code",
        "colab": {}
      },
      "source": [
        "bra_size = feature_column.categorical_column_with_vocabulary_list(\n",
        "      'bra_size', mod_cloth_data.bra_size.unique())"
      ],
      "execution_count": 0,
      "outputs": []
    },
    {
      "cell_type": "code",
      "metadata": {
        "id": "ouNP2-dS6mbT",
        "colab_type": "code",
        "colab": {}
      },
      "source": [
        "bra_size_one_hot = feature_column.indicator_column(bra_size)\n",
        "feature_columns.append(bra_size_one_hot)"
      ],
      "execution_count": 0,
      "outputs": []
    },
    {
      "cell_type": "code",
      "metadata": {
        "id": "NBpl2bE86oI7",
        "colab_type": "code",
        "colab": {}
      },
      "source": [
        "#converting the categorical data to numeric data using one hot encoding and adding it to the feature columns array\n",
        "item_id = feature_column.categorical_column_with_vocabulary_list(\n",
        "      'item_id', mod_cloth_data.item_id.unique())"
      ],
      "execution_count": 0,
      "outputs": []
    },
    {
      "cell_type": "code",
      "metadata": {
        "id": "mvV4NOz_6pdA",
        "colab_type": "code",
        "colab": {}
      },
      "source": [
        "item_id_one_hot = feature_column.indicator_column(item_id)\n",
        "feature_columns.append(item_id_one_hot)"
      ],
      "execution_count": 0,
      "outputs": []
    },
    {
      "cell_type": "code",
      "metadata": {
        "id": "fJFlu2Am6qtY",
        "colab_type": "code",
        "colab": {}
      },
      "source": [
        "cup_size = feature_column.categorical_column_with_vocabulary_list(\n",
        "      'cup_size', mod_cloth_data.cup_size.unique())"
      ],
      "execution_count": 0,
      "outputs": []
    },
    {
      "cell_type": "code",
      "metadata": {
        "id": "KRC88UY66sHE",
        "colab_type": "code",
        "colab": {}
      },
      "source": [
        "cup_size_one_hot = feature_column.indicator_column(cup_size)\n",
        "feature_columns.append(cup_size_one_hot)"
      ],
      "execution_count": 0,
      "outputs": []
    },
    {
      "cell_type": "code",
      "metadata": {
        "id": "lsAlXiXpl9r6",
        "colab_type": "code",
        "colab": {}
      },
      "source": [
        "hips = feature_column.categorical_column_with_vocabulary_list(\n",
        "      'hips', mod_cloth_data.hips.unique())"
      ],
      "execution_count": 0,
      "outputs": []
    },
    {
      "cell_type": "code",
      "metadata": {
        "id": "js5qRalfl_82",
        "colab_type": "code",
        "colab": {}
      },
      "source": [
        "hips_one_hot = feature_column.indicator_column(hips)\n",
        "feature_columns.append(hips_one_hot)"
      ],
      "execution_count": 0,
      "outputs": []
    },
    {
      "cell_type": "code",
      "metadata": {
        "id": "ZznNCPCymmLy",
        "colab_type": "code",
        "colab": {}
      },
      "source": [
        "user_id = feature_column.categorical_column_with_vocabulary_list(\n",
        "      'user_id', mod_cloth_data.user_id.unique())"
      ],
      "execution_count": 0,
      "outputs": []
    },
    {
      "cell_type": "code",
      "metadata": {
        "id": "-DyLR9G1mm0U",
        "colab_type": "code",
        "colab": {}
      },
      "source": [
        "user_id_one_hot = feature_column.indicator_column(user_id)\n",
        "feature_columns.append(user_id_one_hot)"
      ],
      "execution_count": 0,
      "outputs": []
    },
    {
      "cell_type": "markdown",
      "metadata": {
        "id": "TT5oby27CPUs",
        "colab_type": "text"
      },
      "source": [
        "Execute the below steps for classifiying labels from features using **tensorflow's DNN Classifier**"
      ]
    },
    {
      "cell_type": "code",
      "metadata": {
        "id": "LwidV6xnDBKS",
        "colab_type": "code",
        "colab": {}
      },
      "source": [
        "#setting the lables i.e the y_train for training and validation set\n",
        "y_train = train.pop('fit')\n",
        "y_val = val.pop('fit')"
      ],
      "execution_count": 0,
      "outputs": []
    },
    {
      "cell_type": "code",
      "metadata": {
        "id": "TgQSxBfZCWje",
        "colab_type": "code",
        "colab": {}
      },
      "source": [
        "def input_fn(features, labels, training=True, batch_size=512):\n",
        "    # Convert the inputs to a Dataset and provide input to the pipeline\n",
        "    dataset = tf.data.Dataset.from_tensor_slices((dict(features), labels))\n",
        "\n",
        "    # Shuffle dataset\n",
        "    if training:\n",
        "        dataset = dataset.shuffle(1000).repeat()\n",
        "    \n",
        "    return dataset.batch(batch_size)"
      ],
      "execution_count": 0,
      "outputs": []
    },
    {
      "cell_type": "code",
      "metadata": {
        "id": "eJ5ScujOCZL8",
        "colab_type": "code",
        "colab": {}
      },
      "source": [
        "# train_input_fn = input_fn(train, y_train)\n",
        "# eval_input_fn = input_fn(val, y_val)"
      ],
      "execution_count": 0,
      "outputs": []
    },
    {
      "cell_type": "code",
      "metadata": {
        "id": "TdDeeZmoCnpm",
        "colab_type": "code",
        "colab": {
          "base_uri": "https://localhost:8080/",
          "height": 187
        },
        "outputId": "d9fc8598-d951-4550-bb5e-410faba158b6"
      },
      "source": [
        "\n",
        "classifier = tf.estimator.DNNClassifier(\n",
        "    feature_columns=feature_columns,\n",
        "    \n",
        "    hidden_units=[30, 10],\n",
        "    \n",
        "    n_classes=3)"
      ],
      "execution_count": 175,
      "outputs": [
        {
          "output_type": "stream",
          "text": [
            "INFO:tensorflow:Using default config.\n",
            "WARNING:tensorflow:Using temporary folder as model directory: /tmp/tmp3pe3cmte\n",
            "INFO:tensorflow:Using config: {'_model_dir': '/tmp/tmp3pe3cmte', '_tf_random_seed': None, '_save_summary_steps': 100, '_save_checkpoints_steps': None, '_save_checkpoints_secs': 600, '_session_config': allow_soft_placement: true\n",
            "graph_options {\n",
            "  rewrite_options {\n",
            "    meta_optimizer_iterations: ONE\n",
            "  }\n",
            "}\n",
            ", '_keep_checkpoint_max': 5, '_keep_checkpoint_every_n_hours': 10000, '_log_step_count_steps': 100, '_train_distribute': None, '_device_fn': None, '_protocol': None, '_eval_distribute': None, '_experimental_distribute': None, '_experimental_max_worker_delay_secs': None, '_session_creation_timeout_secs': 7200, '_service': None, '_cluster_spec': <tensorflow.python.training.server_lib.ClusterSpec object at 0x7f16cd905b70>, '_task_type': 'worker', '_task_id': 0, '_global_id_in_cluster': 0, '_master': '', '_evaluation_master': '', '_is_chief': True, '_num_ps_replicas': 0, '_num_worker_replicas': 1}\n"
          ],
          "name": "stdout"
        }
      ]
    },
    {
      "cell_type": "code",
      "metadata": {
        "id": "3BLCI_4VCtDF",
        "colab_type": "code",
        "colab": {
          "base_uri": "https://localhost:8080/",
          "height": 589
        },
        "outputId": "77b5ad1e-9815-491a-858f-121119289879"
      },
      "source": [
        "# Trainng the classifier\n",
        "classifier.train(\n",
        "    input_fn=lambda: input_fn(train, y_train, training=True),\n",
        "    steps=1000)"
      ],
      "execution_count": 177,
      "outputs": [
        {
          "output_type": "stream",
          "text": [
            "INFO:tensorflow:Calling model_fn.\n",
            "INFO:tensorflow:Done calling model_fn.\n",
            "INFO:tensorflow:Create CheckpointSaverHook.\n",
            "INFO:tensorflow:Graph was finalized.\n",
            "INFO:tensorflow:Restoring parameters from /tmp/tmp3pe3cmte/model.ckpt-0\n",
            "WARNING:tensorflow:From /usr/local/lib/python3.6/dist-packages/tensorflow_core/python/training/saver.py:1069: get_checkpoint_mtimes (from tensorflow.python.training.checkpoint_management) is deprecated and will be removed in a future version.\n",
            "Instructions for updating:\n",
            "Use standard file utilities to get mtimes.\n",
            "INFO:tensorflow:Running local_init_op.\n",
            "INFO:tensorflow:Done running local_init_op.\n",
            "INFO:tensorflow:Saving checkpoints for 0 into /tmp/tmp3pe3cmte/model.ckpt.\n",
            "INFO:tensorflow:loss = 1151.8135, step = 1\n",
            "INFO:tensorflow:global_step/sec: 3.64684\n",
            "INFO:tensorflow:loss = 422.43042, step = 101 (27.423 sec)\n",
            "INFO:tensorflow:global_step/sec: 3.84822\n",
            "INFO:tensorflow:loss = 418.95746, step = 201 (25.986 sec)\n",
            "INFO:tensorflow:global_step/sec: 3.83714\n",
            "INFO:tensorflow:loss = 388.5127, step = 301 (26.060 sec)\n",
            "INFO:tensorflow:global_step/sec: 3.8217\n",
            "INFO:tensorflow:loss = 410.64404, step = 401 (26.169 sec)\n",
            "INFO:tensorflow:global_step/sec: 3.80423\n",
            "INFO:tensorflow:loss = 391.48846, step = 501 (26.285 sec)\n",
            "INFO:tensorflow:global_step/sec: 3.83047\n",
            "INFO:tensorflow:loss = 406.0031, step = 601 (26.105 sec)\n",
            "INFO:tensorflow:global_step/sec: 3.83353\n",
            "INFO:tensorflow:loss = 425.94153, step = 701 (26.085 sec)\n",
            "INFO:tensorflow:global_step/sec: 3.8147\n",
            "INFO:tensorflow:loss = 352.6106, step = 801 (26.214 sec)\n",
            "INFO:tensorflow:global_step/sec: 3.82082\n",
            "INFO:tensorflow:loss = 370.48062, step = 901 (26.173 sec)\n",
            "INFO:tensorflow:Saving checkpoints for 1000 into /tmp/tmp3pe3cmte/model.ckpt.\n",
            "INFO:tensorflow:Loss for final step: 394.32452.\n"
          ],
          "name": "stdout"
        },
        {
          "output_type": "execute_result",
          "data": {
            "text/plain": [
              "<tensorflow_estimator.python.estimator.canned.dnn.DNNClassifier at 0x7f16cd905198>"
            ]
          },
          "metadata": {
            "tags": []
          },
          "execution_count": 177
        }
      ]
    },
    {
      "cell_type": "code",
      "metadata": {
        "id": "_OEjk0O1C3SU",
        "colab_type": "code",
        "colab": {
          "base_uri": "https://localhost:8080/",
          "height": 234
        },
        "outputId": "775ea8ff-284f-4ced-ea84-db2ee031959b"
      },
      "source": [
        "#evaluating the result\n",
        "eval_result = classifier.evaluate(\n",
        "    input_fn=lambda: input_fn(val, y_val, training=False))\n",
        "\n",
        "print('\\nTest set accuracy: {accuracy:0.3f}\\n'.format(**eval_result))"
      ],
      "execution_count": 178,
      "outputs": [
        {
          "output_type": "stream",
          "text": [
            "INFO:tensorflow:Calling model_fn.\n",
            "INFO:tensorflow:Done calling model_fn.\n",
            "INFO:tensorflow:Starting evaluation at 2019-11-21T07:18:17Z\n",
            "INFO:tensorflow:Graph was finalized.\n",
            "INFO:tensorflow:Restoring parameters from /tmp/tmp3pe3cmte/model.ckpt-1000\n",
            "INFO:tensorflow:Running local_init_op.\n",
            "INFO:tensorflow:Done running local_init_op.\n",
            "INFO:tensorflow:Finished evaluation at 2019-11-21-07:18:22\n",
            "INFO:tensorflow:Saving dict for global step 1000: accuracy = 0.6868401, average_loss = 0.8128922, global_step = 1000, loss = 408.63464\n",
            "INFO:tensorflow:Saving 'checkpoint_path' summary for global step 1000: /tmp/tmp3pe3cmte/model.ckpt-1000\n",
            "\n",
            "Test set accuracy: 0.687\n",
            "\n"
          ],
          "name": "stdout"
        }
      ]
    },
    {
      "cell_type": "markdown",
      "metadata": {
        "id": "xbm7TbA4Eu3F",
        "colab_type": "text"
      },
      "source": [
        "Execute the below steps for classifiying labels from features using **tensorflow's Linear Model**"
      ]
    },
    {
      "cell_type": "code",
      "metadata": {
        "id": "PZI7c95EFF9I",
        "colab_type": "code",
        "colab": {}
      },
      "source": [
        "#function to shuffle the data for traing datasets and adding the dictinary of data and lables as an input to pipeline\n",
        "def make_input_fn(data_df, num_epochs=10, shuffle=True, batch_size=512):\n",
        "  def input_function():\n",
        "    label_df = data_df.pop('fit')\n",
        "    ds = tf.data.Dataset.from_tensor_slices((dict(data_df), label_df))\n",
        "    if shuffle:\n",
        "      ds = ds.shuffle(1000)\n",
        "    ds = ds.batch(batch_size).repeat(num_epochs)\n",
        "    return ds\n",
        "  return input_function"
      ],
      "execution_count": 0,
      "outputs": []
    },
    {
      "cell_type": "code",
      "metadata": {
        "id": "WZaxyBlpFzn6",
        "colab_type": "code",
        "colab": {}
      },
      "source": [
        "train_input_fn = make_input_fn(train)\n",
        "eval_input_fn = make_input_fn(val, num_epochs=1, shuffle=False)"
      ],
      "execution_count": 0,
      "outputs": []
    },
    {
      "cell_type": "code",
      "metadata": {
        "id": "tEZhzN-8FNK8",
        "colab_type": "code",
        "colab": {
          "base_uri": "https://localhost:8080/",
          "height": 856
        },
        "outputId": "3c733305-9b03-405d-b668-c83deea882d5"
      },
      "source": [
        "#Create a classifier model.\n",
        "#Train it on train data and then evaluate for test data\n",
        "linear_est = tf.estimator.LinearClassifier(feature_columns=feature_columns, n_classes=3)\n",
        "linear_est.train(train_input_fn)\n",
        "result = linear_est.evaluate(eval_input_fn)"
      ],
      "execution_count": 183,
      "outputs": [
        {
          "output_type": "stream",
          "text": [
            "INFO:tensorflow:Using default config.\n",
            "WARNING:tensorflow:Using temporary folder as model directory: /tmp/tmpawvrth2u\n",
            "INFO:tensorflow:Using config: {'_model_dir': '/tmp/tmpawvrth2u', '_tf_random_seed': None, '_save_summary_steps': 100, '_save_checkpoints_steps': None, '_save_checkpoints_secs': 600, '_session_config': allow_soft_placement: true\n",
            "graph_options {\n",
            "  rewrite_options {\n",
            "    meta_optimizer_iterations: ONE\n",
            "  }\n",
            "}\n",
            ", '_keep_checkpoint_max': 5, '_keep_checkpoint_every_n_hours': 10000, '_log_step_count_steps': 100, '_train_distribute': None, '_device_fn': None, '_protocol': None, '_eval_distribute': None, '_experimental_distribute': None, '_experimental_max_worker_delay_secs': None, '_session_creation_timeout_secs': 7200, '_service': None, '_cluster_spec': <tensorflow.python.training.server_lib.ClusterSpec object at 0x7f16cdeed6a0>, '_task_type': 'worker', '_task_id': 0, '_global_id_in_cluster': 0, '_master': '', '_evaluation_master': '', '_is_chief': True, '_num_ps_replicas': 0, '_num_worker_replicas': 1}\n",
            "INFO:tensorflow:Calling model_fn.\n",
            "INFO:tensorflow:Done calling model_fn.\n",
            "INFO:tensorflow:Create CheckpointSaverHook.\n",
            "INFO:tensorflow:Graph was finalized.\n",
            "INFO:tensorflow:Running local_init_op.\n",
            "INFO:tensorflow:Done running local_init_op.\n",
            "INFO:tensorflow:Saving checkpoints for 0 into /tmp/tmpawvrth2u/model.ckpt.\n",
            "INFO:tensorflow:loss = 562.4896, step = 1\n",
            "INFO:tensorflow:global_step/sec: 4.99109\n",
            "INFO:tensorflow:loss = 644.3368, step = 101 (20.037 sec)\n",
            "INFO:tensorflow:global_step/sec: 4.98485\n",
            "INFO:tensorflow:loss = 641.53845, step = 201 (20.061 sec)\n",
            "INFO:tensorflow:global_step/sec: 5.08783\n",
            "INFO:tensorflow:loss = 334.05795, step = 301 (19.654 sec)\n",
            "INFO:tensorflow:global_step/sec: 5.01918\n",
            "INFO:tensorflow:loss = 263.48694, step = 401 (19.925 sec)\n",
            "INFO:tensorflow:global_step/sec: 4.92999\n",
            "INFO:tensorflow:loss = 269.9071, step = 501 (20.283 sec)\n",
            "INFO:tensorflow:global_step/sec: 5.04049\n",
            "INFO:tensorflow:loss = 249.65588, step = 601 (19.843 sec)\n",
            "INFO:tensorflow:global_step/sec: 4.94958\n",
            "INFO:tensorflow:loss = 251.76093, step = 701 (20.200 sec)\n",
            "INFO:tensorflow:global_step/sec: 4.99593\n",
            "INFO:tensorflow:loss = 212.50363, step = 801 (20.020 sec)\n",
            "INFO:tensorflow:global_step/sec: 4.98666\n",
            "INFO:tensorflow:loss = 206.14188, step = 901 (20.050 sec)\n",
            "INFO:tensorflow:global_step/sec: 5.0825\n",
            "INFO:tensorflow:loss = 228.9354, step = 1001 (19.675 sec)\n",
            "INFO:tensorflow:Saving checkpoints for 1030 into /tmp/tmpawvrth2u/model.ckpt.\n",
            "INFO:tensorflow:Loss for final step: 21.916609.\n",
            "INFO:tensorflow:Calling model_fn.\n",
            "INFO:tensorflow:Done calling model_fn.\n",
            "INFO:tensorflow:Starting evaluation at 2019-11-21T07:22:26Z\n",
            "INFO:tensorflow:Graph was finalized.\n",
            "INFO:tensorflow:Restoring parameters from /tmp/tmpawvrth2u/model.ckpt-1030\n",
            "INFO:tensorflow:Running local_init_op.\n",
            "INFO:tensorflow:Done running local_init_op.\n",
            "INFO:tensorflow:Finished evaluation at 2019-11-21-07:22:30\n",
            "INFO:tensorflow:Saving dict for global step 1030: accuracy = 0.65876055, average_loss = 0.79997385, global_step = 1030, loss = 402.1407\n",
            "INFO:tensorflow:Saving 'checkpoint_path' summary for global step 1030: /tmp/tmpawvrth2u/model.ckpt-1030\n"
          ],
          "name": "stdout"
        }
      ]
    },
    {
      "cell_type": "code",
      "metadata": {
        "id": "-ALfIZEaF31b",
        "colab_type": "code",
        "colab": {
          "base_uri": "https://localhost:8080/",
          "height": 184
        },
        "outputId": "a70e8654-8584-4db6-96ba-65d4074d4705"
      },
      "source": [
        "eval_test_fn = make_input_fn(test, num_epochs=1, shuffle=False)\n",
        "result_test = linear_est.evaluate(eval_test_fn)"
      ],
      "execution_count": 184,
      "outputs": [
        {
          "output_type": "stream",
          "text": [
            "INFO:tensorflow:Calling model_fn.\n",
            "INFO:tensorflow:Done calling model_fn.\n",
            "INFO:tensorflow:Starting evaluation at 2019-11-21T07:22:38Z\n",
            "INFO:tensorflow:Graph was finalized.\n",
            "INFO:tensorflow:Restoring parameters from /tmp/tmpawvrth2u/model.ckpt-1030\n",
            "INFO:tensorflow:Running local_init_op.\n",
            "INFO:tensorflow:Done running local_init_op.\n",
            "INFO:tensorflow:Finished evaluation at 2019-11-21-07:22:42\n",
            "INFO:tensorflow:Saving dict for global step 1030: accuracy = 0.66444266, average_loss = 0.8021948, global_step = 1030, loss = 409.5455\n",
            "INFO:tensorflow:Saving 'checkpoint_path' summary for global step 1030: /tmp/tmpawvrth2u/model.ckpt-1030\n"
          ],
          "name": "stdout"
        }
      ]
    },
    {
      "cell_type": "markdown",
      "metadata": {
        "id": "65MUhYLU__Pw",
        "colab_type": "text"
      },
      "source": [
        "Execute the below steps for classifiying labels from features using **tensorflow keras API Sequential algorithm**"
      ]
    },
    {
      "cell_type": "code",
      "metadata": {
        "id": "0WuskEge6sK2",
        "colab_type": "code",
        "colab": {}
      },
      "source": [
        "feature_layer = tf.keras.layers.DenseFeatures(feature_columns)"
      ],
      "execution_count": 0,
      "outputs": []
    },
    {
      "cell_type": "code",
      "metadata": {
        "id": "wXt235nF6y4R",
        "colab_type": "code",
        "colab": {}
      },
      "source": [
        "reg = 0.001\n",
        "model = tf.keras.Sequential([\n",
        "  feature_layer,\n",
        "  layers.Dense(32, activation='relu', kernel_regularizer=tf.keras.regularizers.l2(reg)),\n",
        "  layers.Dense(32, activation='relu', kernel_regularizer=tf.keras.regularizers.l2(reg)),\n",
        "\n",
        "  # layers.Dense(128, activation='relu'),\n",
        "  # layers.Dense(128, activation='relu'),\n",
        "  layers.Dense(3, activation='softmax', name='predictions')\n",
        "])"
      ],
      "execution_count": 0,
      "outputs": []
    },
    {
      "cell_type": "code",
      "metadata": {
        "id": "7Qv9rarE6yJg",
        "colab_type": "code",
        "colab": {}
      },
      "source": [
        "batch_size = 512\n",
        "train_ds = df_to_dataset(train, batch_size=batch_size)\n",
        "val_ds = df_to_dataset(val, shuffle=False, batch_size=batch_size)\n",
        "test_ds = df_to_dataset(test, shuffle=False, batch_size=batch_size)"
      ],
      "execution_count": 0,
      "outputs": []
    },
    {
      "cell_type": "code",
      "metadata": {
        "id": "apu1uW1k69Vv",
        "colab_type": "code",
        "colab": {}
      },
      "source": [
        "#compile the model using an optimizer\n",
        "model.compile(optimizer= tf.keras.optimizers.RMSprop(learning_rate=1e-4),  # Optimizer\n",
        "              # Loss function to minimize\n",
        "              loss=tf.keras.losses.SparseCategoricalCrossentropy(),\n",
        "              # List of metrics to monitor\n",
        "              metrics=[tf.keras.metrics.SparseCategoricalAccuracy()])"
      ],
      "execution_count": 0,
      "outputs": []
    },
    {
      "cell_type": "code",
      "metadata": {
        "id": "-9ye2nysgfbc",
        "colab_type": "code",
        "colab": {}
      },
      "source": [
        ""
      ],
      "execution_count": 0,
      "outputs": []
    },
    {
      "cell_type": "code",
      "metadata": {
        "id": "0kI8xZQf66rX",
        "colab_type": "code",
        "colab": {}
      },
      "source": [
        "METRICS = [\n",
        "      tf.keras.metrics.TruePositives(name='tp'),\n",
        "      tf.keras.metrics.FalsePositives(name='fp'),\n",
        "      tf.keras.metrics.TrueNegatives(name='tn'),\n",
        "      tf.keras.metrics.FalseNegatives(name='fn'), \n",
        "      tf.keras.metrics.CategoricalAccuracy(name='accuracy'),\n",
        "      tf.keras.metrics.Precision(name='precision'),\n",
        "      tf.keras.metrics.Recall(name='recall'),\n",
        "      tf.keras.metrics.AUC(name='auc'),\n",
        "]"
      ],
      "execution_count": 0,
      "outputs": []
    },
    {
      "cell_type": "code",
      "metadata": {
        "id": "XBKVGm0an7um",
        "colab_type": "code",
        "colab": {}
      },
      "source": [
        "model.compile(optimizer= tf.keras.optimizers.RMSprop(learning_rate=1e-4),  # Optimizer\n",
        "              # Loss function to minimize\n",
        "              loss= tf.keras.losses.CategoricalCrossentropy(),\n",
        "              # List of metrics to monitor\n",
        "              metrics= METRICS)"
      ],
      "execution_count": 0,
      "outputs": []
    },
    {
      "cell_type": "code",
      "metadata": {
        "id": "zxAQ1raP7GOY",
        "colab_type": "code",
        "colab": {
          "base_uri": "https://localhost:8080/",
          "height": 371
        },
        "outputId": "35eca5b1-eaec-47d4-a3f6-8f5d2c1759a2"
      },
      "source": [
        " #fit the model\n",
        " history = model.fit(train_ds,\n",
        "            validation_data=val_ds,\n",
        "            epochs=10)"
      ],
      "execution_count": 223,
      "outputs": [
        {
          "output_type": "stream",
          "text": [
            "Epoch 1/10\n",
            "103/103 [==============================] - 35s 344ms/step - loss: 1.1210 - tp: 22711.0000 - fp: 20013.0000 - tn: 84539.0000 - fn: 29565.0000 - accuracy: 0.5207 - precision: 0.5316 - recall: 0.4344 - auc: 0.6412 - val_loss: 0.0000e+00 - val_tp: 0.0000e+00 - val_fp: 0.0000e+00 - val_tn: 0.0000e+00 - val_fn: 0.0000e+00 - val_accuracy: 0.0000e+00 - val_precision: 0.0000e+00 - val_recall: 0.0000e+00 - val_auc: 0.0000e+00\n",
            "Epoch 2/10\n",
            "103/103 [==============================] - 32s 311ms/step - loss: 0.8631 - tp: 35823.0000 - fp: 16447.0000 - tn: 88105.0000 - fn: 16453.0000 - accuracy: 0.6854 - precision: 0.6853 - recall: 0.6853 - auc: 0.7850 - val_loss: 0.8673 - val_tp: 8915.0000 - val_fp: 4146.0000 - val_tn: 21994.0000 - val_fn: 4155.0000 - val_accuracy: 0.6823 - val_precision: 0.6826 - val_recall: 0.6821 - val_auc: 0.7909\n",
            "Epoch 3/10\n",
            "103/103 [==============================] - 35s 342ms/step - loss: 0.8574 - tp: 35818.0000 - fp: 16438.0000 - tn: 88114.0000 - fn: 16458.0000 - accuracy: 0.6854 - precision: 0.6854 - recall: 0.6852 - auc: 0.7913 - val_loss: 0.8638 - val_tp: 8846.0000 - val_fp: 4063.0000 - val_tn: 22077.0000 - val_fn: 4224.0000 - val_accuracy: 0.6823 - val_precision: 0.6853 - val_recall: 0.6768 - val_auc: 0.7941\n",
            "Epoch 4/10\n",
            "103/103 [==============================] - 36s 347ms/step - loss: 0.8537 - tp: 35792.0000 - fp: 16414.0000 - tn: 88138.0000 - fn: 16484.0000 - accuracy: 0.6854 - precision: 0.6856 - recall: 0.6847 - auc: 0.7948 - val_loss: 0.8603 - val_tp: 8810.0000 - val_fp: 4036.0000 - val_tn: 22104.0000 - val_fn: 4260.0000 - val_accuracy: 0.6823 - val_precision: 0.6858 - val_recall: 0.6741 - val_auc: 0.7974\n",
            "Epoch 5/10\n",
            "103/103 [==============================] - 36s 345ms/step - loss: 0.8504 - tp: 35771.0000 - fp: 16393.0000 - tn: 88159.0000 - fn: 16505.0000 - accuracy: 0.6854 - precision: 0.6857 - recall: 0.6843 - auc: 0.7979 - val_loss: 0.8573 - val_tp: 8791.0000 - val_fp: 4009.0000 - val_tn: 22131.0000 - val_fn: 4279.0000 - val_accuracy: 0.6823 - val_precision: 0.6868 - val_recall: 0.6726 - val_auc: 0.8002\n",
            "Epoch 6/10\n",
            "103/103 [==============================] - 36s 346ms/step - loss: 0.8473 - tp: 35749.0000 - fp: 16369.0000 - tn: 88183.0000 - fn: 16527.0000 - accuracy: 0.6854 - precision: 0.6859 - recall: 0.6839 - auc: 0.8008 - val_loss: 0.8545 - val_tp: 8764.0000 - val_fp: 3978.0000 - val_tn: 22162.0000 - val_fn: 4306.0000 - val_accuracy: 0.6823 - val_precision: 0.6878 - val_recall: 0.6705 - val_auc: 0.8032\n",
            "Epoch 7/10\n",
            "103/103 [==============================] - 33s 319ms/step - loss: 0.8444 - tp: 35733.0000 - fp: 16351.0000 - tn: 88201.0000 - fn: 16543.0000 - accuracy: 0.6854 - precision: 0.6861 - recall: 0.6835 - auc: 0.8036 - val_loss: 0.8520 - val_tp: 8745.0000 - val_fp: 3963.0000 - val_tn: 22177.0000 - val_fn: 4325.0000 - val_accuracy: 0.6823 - val_precision: 0.6881 - val_recall: 0.6691 - val_auc: 0.8057\n",
            "Epoch 8/10\n",
            "103/103 [==============================] - 35s 335ms/step - loss: 0.8415 - tp: 35723.0000 - fp: 16340.0000 - tn: 88212.0000 - fn: 16553.0000 - accuracy: 0.6854 - precision: 0.6861 - recall: 0.6834 - auc: 0.8063 - val_loss: 0.8492 - val_tp: 8722.0000 - val_fp: 3942.0000 - val_tn: 22198.0000 - val_fn: 4348.0000 - val_accuracy: 0.6823 - val_precision: 0.6887 - val_recall: 0.6673 - val_auc: 0.8083\n",
            "Epoch 9/10\n",
            "103/103 [==============================] - 35s 342ms/step - loss: 0.8388 - tp: 35707.0000 - fp: 16310.0000 - tn: 88242.0000 - fn: 16569.0000 - accuracy: 0.6854 - precision: 0.6864 - recall: 0.6830 - auc: 0.8088 - val_loss: 0.8468 - val_tp: 8714.0000 - val_fp: 3929.0000 - val_tn: 22211.0000 - val_fn: 4356.0000 - val_accuracy: 0.6823 - val_precision: 0.6892 - val_recall: 0.6667 - val_auc: 0.8106\n",
            "Epoch 10/10\n",
            "103/103 [==============================] - 35s 337ms/step - loss: 0.8362 - tp: 35686.0000 - fp: 16291.0000 - tn: 88261.0000 - fn: 16590.0000 - accuracy: 0.6854 - precision: 0.6866 - recall: 0.6826 - auc: 0.8110 - val_loss: 0.8444 - val_tp: 8699.0000 - val_fp: 3912.0000 - val_tn: 22228.0000 - val_fn: 4371.0000 - val_accuracy: 0.6823 - val_precision: 0.6898 - val_recall: 0.6656 - val_auc: 0.8127\n"
          ],
          "name": "stdout"
        }
      ]
    },
    {
      "cell_type": "code",
      "metadata": {
        "id": "bQPoErO0_XJJ",
        "colab_type": "code",
        "colab": {
          "base_uri": "https://localhost:8080/",
          "height": 265
        },
        "outputId": "7b6fd182-f9a1-4010-a022-cec0239a7593"
      },
      "source": [
        "from matplotlib import pyplot\n",
        "\n",
        "\n",
        "\n",
        "pyplot.plot(history.history['accuracy'],label = 'train')\n",
        "pyplot.plot(history.history['val_accuracy'],label = 'val')\n",
        "pyplot.legend()\n",
        "pyplot.show()"
      ],
      "execution_count": 224,
      "outputs": [
        {
          "output_type": "display_data",
          "data": {
            "image/png": "[encoded data removed]",
            "text/plain": [
              "<Figure size 432x288 with 1 Axes>"
            ]
          },
          "metadata": {
            "tags": []
          }
        }
      ]
    },
    {
      "cell_type": "code",
      "metadata": {
        "id": "OJzPXygV_phg",
        "colab_type": "code",
        "colab": {
          "base_uri": "https://localhost:8080/",
          "height": 265
        },
        "outputId": "cbade5b1-0504-4d81-bd2e-5a0b15bfcdfb"
      },
      "source": [
        "pyplot.plot(history.history['loss'],label = 'train')\n",
        "pyplot.plot(history.history['val_loss'],label = 'val')\n",
        "pyplot.legend()\n",
        "pyplot.show()"
      ],
      "execution_count": 225,
      "outputs": [
        {
          "output_type": "display_data",
          "data": {
            "image/png": "[encoded data removed]",
            "text/plain": [
              "<Figure size 432x288 with 1 Axes>"
            ]
          },
          "metadata": {
            "tags": []
          }
        }
      ]
    },
    {
      "cell_type": "code",
      "metadata": {
        "id": "cCnkwlOf_tdo",
        "colab_type": "code",
        "colab": {}
      },
      "source": [
        "for x, y in test_ds.take(1):\n",
        "  print(model.predict(x))\n",
        "  print(y)"
      ],
      "execution_count": 0,
      "outputs": []
    },
    {
      "cell_type": "code",
      "metadata": {
        "id": "hvZsflH3_w8J",
        "colab_type": "code",
        "colab": {}
      },
      "source": [
        "loss, tp, fp ,tn, fn, accuracy, precision, recall, auc = model.evaluate(test_ds)\n",
        "print(\"Accuracy\", accuracy)"
      ],
      "execution_count": 0,
      "outputs": []
    }
  ]
}